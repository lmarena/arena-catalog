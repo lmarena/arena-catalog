{
 "cells": [
  {
   "cell_type": "markdown",
   "metadata": {},
   "source": [
    "# Vision Arena Data Clustering"
   ]
  },
  {
   "cell_type": "code",
   "execution_count": 6,
   "metadata": {},
   "outputs": [],
   "source": [
    "import json\n",
    "import pandas as pd\n",
    "import re\n",
    "\n",
    "file_path = \"/home/ygtang/arena-leaderboard-v2/vision/data\""
   ]
  },
  {
   "cell_type": "markdown",
   "metadata": {},
   "source": [
    "### Data Processing"
   ]
  },
  {
   "cell_type": "code",
   "execution_count": 5,
   "metadata": {},
   "outputs": [],
   "source": [
    "df = pd.read_json(\"/tmp/vision-arena-embeddings/filtered_chat_random.jsonl\", lines=True)"
   ]
  },
  {
   "cell_type": "code",
   "execution_count": 29,
   "metadata": {},
   "outputs": [
    {
     "data": {
      "text/plain": [
       "50000"
      ]
     },
     "execution_count": 29,
     "metadata": {},
     "output_type": "execute_result"
    }
   ],
   "source": [
    "df['Prompt'] = df.apply(\n",
    "    lambda x: ' '.join([i['content'][0] for i in x['conversation'] if i['role'] == 'user']),\n",
    "    axis=1\n",
    ")\n",
    "prompts = list(df['Prompt'])\n",
    "\n",
    "len(prompts)"
   ]
  },
  {
   "cell_type": "code",
   "execution_count": 11,
   "metadata": {},
   "outputs": [
    {
     "data": {
      "text/html": [
       "<div>\n",
       "<style scoped>\n",
       "    .dataframe tbody tr th:only-of-type {\n",
       "        vertical-align: middle;\n",
       "    }\n",
       "\n",
       "    .dataframe tbody tr th {\n",
       "        vertical-align: top;\n",
       "    }\n",
       "\n",
       "    .dataframe thead th {\n",
       "        text-align: right;\n",
       "    }\n",
       "</style>\n",
       "<table border=\"1\" class=\"dataframe\">\n",
       "  <thead>\n",
       "    <tr style=\"text-align: right;\">\n",
       "      <th></th>\n",
       "      <th>conversation_id</th>\n",
       "      <th>model</th>\n",
       "      <th>conversation</th>\n",
       "      <th>turn</th>\n",
       "      <th>language</th>\n",
       "      <th>user_id</th>\n",
       "      <th>tstamp</th>\n",
       "    </tr>\n",
       "  </thead>\n",
       "  <tbody>\n",
       "    <tr>\n",
       "      <th>0</th>\n",
       "      <td>8b13aa65d904446cabbe0eda34872df2</td>\n",
       "      <td>gpt-4o-2024-05-13</td>\n",
       "      <td>[{'role': 'user', 'content': ['Consider a diss...</td>\n",
       "      <td>2</td>\n",
       "      <td>English</td>\n",
       "      <td>73440</td>\n",
       "      <td>1.726803e+09</td>\n",
       "    </tr>\n",
       "    <tr>\n",
       "      <th>1</th>\n",
       "      <td>d977ac4c9f444214920658ff68c169b2</td>\n",
       "      <td>phi-3-vision-128k-instruct</td>\n",
       "      <td>[{'role': 'user', 'content': ['make this logo ...</td>\n",
       "      <td>2</td>\n",
       "      <td>English</td>\n",
       "      <td>50827</td>\n",
       "      <td>1.724256e+09</td>\n",
       "    </tr>\n",
       "    <tr>\n",
       "      <th>2</th>\n",
       "      <td>841e83c09d264f3d87f0c8e3b396d5b8</td>\n",
       "      <td>gpt-4-turbo-2024-04-09</td>\n",
       "      <td>[{'role': 'user', 'content': ['Solve this', ['...</td>\n",
       "      <td>1</td>\n",
       "      <td>English</td>\n",
       "      <td>13299</td>\n",
       "      <td>1.719507e+09</td>\n",
       "    </tr>\n",
       "    <tr>\n",
       "      <th>3</th>\n",
       "      <td>77981e52a0414f10a64a53dc12b35d12</td>\n",
       "      <td>cogvlm2-llama3-chat-19b</td>\n",
       "      <td>[{'role': 'user', 'content': ['answer', ['bc08...</td>\n",
       "      <td>1</td>\n",
       "      <td>English</td>\n",
       "      <td>21720</td>\n",
       "      <td>1.720807e+09</td>\n",
       "    </tr>\n",
       "    <tr>\n",
       "      <th>4</th>\n",
       "      <td>19e1c334f5214800b7ccdedcdce6b25c</td>\n",
       "      <td>gemini-1.5-pro-api-0514</td>\n",
       "      <td>[{'role': 'user', 'content': ['Which option co...</td>\n",
       "      <td>1</td>\n",
       "      <td>English</td>\n",
       "      <td>64922</td>\n",
       "      <td>1.726063e+09</td>\n",
       "    </tr>\n",
       "  </tbody>\n",
       "</table>\n",
       "</div>"
      ],
      "text/plain": [
       "                    conversation_id                       model  \\\n",
       "0  8b13aa65d904446cabbe0eda34872df2           gpt-4o-2024-05-13   \n",
       "1  d977ac4c9f444214920658ff68c169b2  phi-3-vision-128k-instruct   \n",
       "2  841e83c09d264f3d87f0c8e3b396d5b8      gpt-4-turbo-2024-04-09   \n",
       "3  77981e52a0414f10a64a53dc12b35d12     cogvlm2-llama3-chat-19b   \n",
       "4  19e1c334f5214800b7ccdedcdce6b25c     gemini-1.5-pro-api-0514   \n",
       "\n",
       "                                        conversation  turn language  user_id  \\\n",
       "0  [{'role': 'user', 'content': ['Consider a diss...     2  English    73440   \n",
       "1  [{'role': 'user', 'content': ['make this logo ...     2  English    50827   \n",
       "2  [{'role': 'user', 'content': ['Solve this', ['...     1  English    13299   \n",
       "3  [{'role': 'user', 'content': ['answer', ['bc08...     1  English    21720   \n",
       "4  [{'role': 'user', 'content': ['Which option co...     1  English    64922   \n",
       "\n",
       "         tstamp  \n",
       "0  1.726803e+09  \n",
       "1  1.724256e+09  \n",
       "2  1.719507e+09  \n",
       "3  1.720807e+09  \n",
       "4  1.726063e+09  "
      ]
     },
     "execution_count": 11,
     "metadata": {},
     "output_type": "execute_result"
    }
   ],
   "source": [
    "df.head()"
   ]
  },
  {
   "cell_type": "code",
   "execution_count": 36,
   "metadata": {},
   "outputs": [
    {
     "data": {
      "text/plain": [
       "[{'role': 'user',\n",
       "  'content': ['make this logo transparent for any website',\n",
       "   ['b1e84cb07dba0a7e7064ee407439ee87']]},\n",
       " {'role': 'assistant',\n",
       "  'content': \"To make the logo transparent, you would need to open the image in a graphics editing software, then go to the image's properties or adjustment layer, and set the opacity to 0%. However, I cannot perform actions on images, I can only describe them.\"},\n",
       " {'role': 'user',\n",
       "  'content': 'help me write a splunk query where I want to see all host between abc10 to 25'},\n",
       " {'role': 'assistant',\n",
       "  'content': 'To write a Splunk query for this purpose, you would use the following command:\\n\\n\\n```\\n\\nsearch \"server.hostname\" between \"abc10\" and \"25\"\\n\\n```\\n\\n\\nThis command searches for the `server.hostname` field in the Splunk index for `server` and filters the results to include only those with a hostname between \"abc10\" and \"25\".'}]"
      ]
     },
     "execution_count": 36,
     "metadata": {},
     "output_type": "execute_result"
    }
   ],
   "source": [
    "df['conversation'][1]"
   ]
  },
  {
   "cell_type": "markdown",
   "metadata": {},
   "source": [
    "### Create Embedding"
   ]
  },
  {
   "cell_type": "code",
   "execution_count": 12,
   "metadata": {},
   "outputs": [
    {
     "data": {
      "application/vnd.jupyter.widget-view+json": {
       "model_id": "7adcc74e8fb34d1aac44e6b1c38ee3c4",
       "version_major": 2,
       "version_minor": 0
      },
      "text/plain": [
       "Batches:   0%|          | 0/1641 [00:00<?, ?it/s]"
      ]
     },
     "metadata": {},
     "output_type": "display_data"
    }
   ],
   "source": [
    "from sentence_transformers import SentenceTransformer\n",
    "\n",
    "model = SentenceTransformer('sentence-transformers/all-mpnet-base-v2')\n",
    "embeddings = model.encode(doc, show_progress_bar=True)\n",
    "\n",
    "np.save(f\"{file_path}/recent_english_embeddings.npy\", embeddings)"
   ]
  },
  {
   "cell_type": "code",
   "execution_count": 16,
   "metadata": {},
   "outputs": [
    {
     "name": "stdout",
     "output_type": "stream",
     "text": [
      "Embedding dimensions: 768\n"
     ]
    }
   ],
   "source": [
    "print(\"Embedding dimensions:\", model.get_sentence_embedding_dimension())"
   ]
  },
  {
   "cell_type": "markdown",
   "metadata": {},
   "source": [
    "### BERTopic Topic Clustering\n",
    "\n",
    "We performed topic clustering on the english conversation dataset using BERTopic."
   ]
  },
  {
   "cell_type": "code",
   "execution_count": 14,
   "metadata": {},
   "outputs": [
    {
     "name": "stderr",
     "output_type": "stream",
     "text": [
      "2025-01-06 23:14:49,051 - BERTopic - Dimensionality - Fitting the dimensionality reduction algorithm\n",
      "2025-01-06 23:15:45,107 - BERTopic - Dimensionality - Completed ✓\n",
      "2025-01-06 23:15:45,109 - BERTopic - Cluster - Start clustering the reduced embeddings\n",
      "huggingface/tokenizers: The current process just got forked, after parallelism has already been used. Disabling parallelism to avoid deadlocks...\n",
      "To disable this warning, you can either:\n",
      "\t- Avoid using `tokenizers` before the fork if possible\n",
      "\t- Explicitly set the environment variable TOKENIZERS_PARALLELISM=(true | false)\n",
      "huggingface/tokenizers: The current process just got forked, after parallelism has already been used. Disabling parallelism to avoid deadlocks...\n",
      "To disable this warning, you can either:\n",
      "\t- Avoid using `tokenizers` before the fork if possible\n",
      "\t- Explicitly set the environment variable TOKENIZERS_PARALLELISM=(true | false)\n",
      "huggingface/tokenizers: The current process just got forked, after parallelism has already been used. Disabling parallelism to avoid deadlocks...\n",
      "To disable this warning, you can either:\n",
      "\t- Avoid using `tokenizers` before the fork if possible\n",
      "\t- Explicitly set the environment variable TOKENIZERS_PARALLELISM=(true | false)\n",
      "huggingface/tokenizers: The current process just got forked, after parallelism has already been used. Disabling parallelism to avoid deadlocks...\n",
      "To disable this warning, you can either:\n",
      "\t- Avoid using `tokenizers` before the fork if possible\n",
      "\t- Explicitly set the environment variable TOKENIZERS_PARALLELISM=(true | false)\n",
      "huggingface/tokenizers: The current process just got forked, after parallelism has already been used. Disabling parallelism to avoid deadlocks...\n",
      "To disable this warning, you can either:\n",
      "\t- Avoid using `tokenizers` before the fork if possible\n",
      "\t- Explicitly set the environment variable TOKENIZERS_PARALLELISM=(true | false)\n",
      "2025-01-06 23:16:32,125 - BERTopic - Cluster - Completed ✓\n",
      "2025-01-06 23:16:32,135 - BERTopic - Representation - Extracting topics from clusters using representation models.\n",
      "2025-01-06 23:16:41,658 - BERTopic - Representation - Completed ✓\n"
     ]
    }
   ],
   "source": [
    "from umap import UMAP\n",
    "from hdbscan import HDBSCAN\n",
    "from bertopic import BERTopic\n",
    "from sklearn.feature_extraction.text import CountVectorizer\n",
    "from sentence_transformers import SentenceTransformer\n",
    "import openai\n",
    "\n",
    "embedding_model = SentenceTransformer('all-mpnet-base-v2')\n",
    "umap_model = UMAP(n_neighbors=20, n_components=5, min_dist=0.0, metric='cosine', random_state=42)\n",
    "hdbscan_model = HDBSCAN(min_cluster_size=30, metric='euclidean', cluster_selection_method='eom', prediction_data=True)\n",
    "vectorizer_model = CountVectorizer(stop_words=\"english\", min_df=2, ngram_range=(1, 2))\n",
    "\n",
    "topic_model = BERTopic(\n",
    "        embedding_model=embedding_model,\n",
    "        umap_model=umap_model,\n",
    "        hdbscan_model=hdbscan_model,\n",
    "        vectorizer_model=vectorizer_model,\n",
    "        \n",
    "        top_n_words=10,\n",
    "        verbose=True,\n",
    "        calculate_probabilities=True\n",
    ")\n",
    "\n",
    "topics, probs = topic_model.fit_transform(doc, embeddings=embeddings)"
   ]
  },
  {
   "cell_type": "code",
   "execution_count": 23,
   "metadata": {},
   "outputs": [
    {
     "data": {
      "text/plain": [
       "194"
      ]
     },
     "execution_count": 23,
     "metadata": {},
     "output_type": "execute_result"
    }
   ],
   "source": [
    "len(topic_model.get_topic_info())"
   ]
  },
  {
   "cell_type": "code",
   "execution_count": 19,
   "metadata": {},
   "outputs": [
    {
     "data": {
      "text/html": [
       "<div>\n",
       "<style scoped>\n",
       "    .dataframe tbody tr th:only-of-type {\n",
       "        vertical-align: middle;\n",
       "    }\n",
       "\n",
       "    .dataframe tbody tr th {\n",
       "        vertical-align: top;\n",
       "    }\n",
       "\n",
       "    .dataframe thead th {\n",
       "        text-align: right;\n",
       "    }\n",
       "</style>\n",
       "<table border=\"1\" class=\"dataframe\">\n",
       "  <thead>\n",
       "    <tr style=\"text-align: right;\">\n",
       "      <th></th>\n",
       "      <th>Topic</th>\n",
       "      <th>Count</th>\n",
       "      <th>Name</th>\n",
       "      <th>Representation</th>\n",
       "      <th>Representative_Docs</th>\n",
       "    </tr>\n",
       "  </thead>\n",
       "  <tbody>\n",
       "    <tr>\n",
       "      <th>0</th>\n",
       "      <td>-1</td>\n",
       "      <td>28485</td>\n",
       "      <td>-1_data_self_like_return</td>\n",
       "      <td>[data, self, like, return, new, use, time, 10,...</td>\n",
       "      <td>[Summarize each letter, one line each: \"Thanks...</td>\n",
       "    </tr>\n",
       "    <tr>\n",
       "      <th>1</th>\n",
       "      <td>0</td>\n",
       "      <td>904</td>\n",
       "      <td>0_song_chorus_lyrics_verse</td>\n",
       "      <td>[song, chorus, lyrics, verse, dub, oh, bridge,...</td>\n",
       "      <td>[# Role: Lyrics Generator\\n\\n# Profile\\n- lang...</td>\n",
       "    </tr>\n",
       "    <tr>\n",
       "      <th>2</th>\n",
       "      <td>1</td>\n",
       "      <td>756</td>\n",
       "      <td>1_story_mark_write story_write</td>\n",
       "      <td>[story, mark, write story, write, girl, hypnot...</td>\n",
       "      <td>[Write a story featuring a loving and devoted ...</td>\n",
       "    </tr>\n",
       "    <tr>\n",
       "      <th>3</th>\n",
       "      <td>2</td>\n",
       "      <td>512</td>\n",
       "      <td>2_strawberry_word strawberry_word_strawberry word</td>\n",
       "      <td>[strawberry, word strawberry, word, strawberry...</td>\n",
       "      <td>[How many \"r\" are there in the word \"strawberr...</td>\n",
       "    </tr>\n",
       "    <tr>\n",
       "      <th>4</th>\n",
       "      <td>3</td>\n",
       "      <td>502</td>\n",
       "      <td>3_solve_numbers_x²_equation</td>\n",
       "      <td>[solve, numbers, x², equation, sqrt, y², minim...</td>\n",
       "      <td>[Solve 1 +1, 2\\t3\\t-1\\t | 5\\n4\\t-1\\t2\\t | 6\\n-...</td>\n",
       "    </tr>\n",
       "  </tbody>\n",
       "</table>\n",
       "</div>"
      ],
      "text/plain": [
       "   Topic  Count                                               Name  \\\n",
       "0     -1  28485                           -1_data_self_like_return   \n",
       "1      0    904                         0_song_chorus_lyrics_verse   \n",
       "2      1    756                     1_story_mark_write story_write   \n",
       "3      2    512  2_strawberry_word strawberry_word_strawberry word   \n",
       "4      3    502                        3_solve_numbers_x²_equation   \n",
       "\n",
       "                                      Representation  \\\n",
       "0  [data, self, like, return, new, use, time, 10,...   \n",
       "1  [song, chorus, lyrics, verse, dub, oh, bridge,...   \n",
       "2  [story, mark, write story, write, girl, hypnot...   \n",
       "3  [strawberry, word strawberry, word, strawberry...   \n",
       "4  [solve, numbers, x², equation, sqrt, y², minim...   \n",
       "\n",
       "                                 Representative_Docs  \n",
       "0  [Summarize each letter, one line each: \"Thanks...  \n",
       "1  [# Role: Lyrics Generator\\n\\n# Profile\\n- lang...  \n",
       "2  [Write a story featuring a loving and devoted ...  \n",
       "3  [How many \"r\" are there in the word \"strawberr...  \n",
       "4  [Solve 1 +1, 2\\t3\\t-1\\t | 5\\n4\\t-1\\t2\\t | 6\\n-...  "
      ]
     },
     "execution_count": 19,
     "metadata": {},
     "output_type": "execute_result"
    }
   ],
   "source": [
    "topic_model.get_topic_info().head()"
   ]
  },
  {
   "cell_type": "markdown",
   "metadata": {},
   "source": [
    "Before reducing outliers, we selected 20 example prompts from each identified cluster. These prompts were chosen from those in the first 20th percentile of probability calculated by HDBSCAN clustering, representing the likelihood that they belong to the cluster. We excluded extra-long (>100 words) and extra-short (<5 words) prompts for better readability."
   ]
  },
  {
   "cell_type": "code",
   "execution_count": 18,
   "metadata": {},
   "outputs": [],
   "source": [
    "from collections import defaultdict\n",
    "\n",
    "sampled_prompts = defaultdict(list)\n",
    "topic_info = topic_model.get_topic_info()\n",
    "doc_info = topic_model.get_document_info(doc)\n",
    "\n",
    "for topic_id in topic_info['Topic'][1:]:\n",
    "    filtered_docs = doc_info[(doc_info['Topic'] == topic_id) & \n",
    "                             (doc_info['Probability'] >= doc_info['Probability'].quantile(0.8)) &\n",
    "                             (doc_info['Document'].str.split().str.len() >= 5)]\n",
    "\n",
    "    res = filtered_docs\n",
    "    cap = 100\n",
    "    if len(filtered_docs) >= 20:\n",
    "        while len(res) < 20:\n",
    "            res = filtered_docs[\n",
    "                filtered_docs['Document'].str.split().str.len() <= cap\n",
    "            ]\n",
    "            cap += 50\n",
    "    \n",
    "    sampled_docs = res.sample(n=min(20, \n",
    "                            len(res)),\n",
    "                            random_state=42,\n",
    "                            replace=False)\n",
    "    \n",
    "    sampled_prompts[topic_id] = sampled_docs['Document'].tolist()"
   ]
  },
  {
   "cell_type": "code",
   "execution_count": 20,
   "metadata": {},
   "outputs": [
    {
     "data": {
      "text/plain": [
       "['Please compare the following playlist 1 and playlist 2 and tell me if playlist 2 has any missing or differing entries. show these differences in a nicely formatted table, but ignore featured artists if the main artists match and ignore small differences in the titles. note if positions differ. summarize only the major differences.\\n\\nplaylist 1:\\nNo.\\tTitle\\tArtist(s)\\n1\\t\"Cherry Pink And Apple Blossom White\"\\tPerez Prado\\n2\\t\"Rock Around the Clock\"\\tBill Haley & His Comets\\n3\\t\"The Yellow Rose of Texas\"\\tMitch Miller\\n4\\t\"Autumn Leaves\"\\tRoger Williams\\n5\\t\"Unchained Melody\"\\tLes Baxter\\n6\\t\"The Ballad of Davy Crockett\"\\tBill Hayes\\n7\\t\"Love Is a Many-Splendored Thing\"\\tThe Four Aces\\n8\\t\"Sincerely\"\\tThe McGuire Sisters\\n9\\t\"Ain\\'t That a Shame\"\\tPat Boone\\n10\\t\"The Wallflower (Dance with Me, Henry)\"\\tGeorgia Gibbs\\n11\\t\"The Crazy Otto Medley\"\\tJohnny Maddox\\n12\\t\"Melody of Love\"\\tBilly Vaughn\\n13\\t\"Sixteen Tons\"\\tTennessee Ernie Ford\\n14\\t\"Learnin\\' the Blues\"\\tFrank Sinatra\\n15\\t\"Hearts of Stone\"\\tThe Fontane Sisters\\n16\\t\"Tweedle Dee\"\\tGeorgia Gibbs\\n17\\t\"Moments to Remember\"\\tThe Four Lads\\n18\\t\"Mr. Sandman\"\\tThe Chordettes\\n19\\t\"Let Me Go, Lover!\"\\tJoan Weber\\n20\\t\"A Blossom Fell\"\\tNat King Cole\\n21\\t\"Unchained Melody\"\\tAl Hibbler\\n22\\t\"The Ballad of Davy Crockett\"\\tFess Parker\\n23\\t\"Honey-Babe\"\\tArt Mooney\\n24\\t\"The Ballad of Davy Crockett\"\\tTennessee Ernie Ford\\n25\\t\"Ko Ko Mo (I Love You So)\"\\tPerry Como\\n26\\t\"Hard to Get\"\\tGisele MacKenzie\\n27\\t\"The Naughty Lady of Shady Lane\"\\tThe Ames Brothers\\n28\\t\"That\\'s All I Want from You\"\\tJaye P. Morgan\\n29\\t\"Only You (And You Alone)\"\\tThe Platters\\n30\\t\"It\\'s a Sin to Tell a Lie\"\\tSomethin\\' Smith and the Redheads\\n---\\n\\nplaylist 2:\\nNo.\\tTitle\\tArtist(s)\\n01\\tCherry Pink And Apple Blossom White\\tPérez Prado\\n02\\t(We\\'re Gonna) Rock Around The Clock\\tBill Haley & His Comets\\n03\\tThe Yellow Rose of Texas\\tMitch Miller & His Orchestra & Chorus\\n04\\tAutumn Leaves (Live At Town Hall, New York/1960)\\tRoger Williams\\n05\\tThe Ballad of Davy Crockett\\tBill Hayes\\n06\\tLove Is A Many Splendored Thing\\tThe Aces\\n07\\tSincerely\\tThe McGuire Sisters\\n08\\tAin\\'t That A Shame\\tPat Boone\\n09\\tDance With Me Henry\\tGeorgia Gibbs\\n10\\tThe Crazy Otto Medley\\tCrazy Otto\\n11\\tMelody Of Love\\tBilly Vaughn\\n12\\tSixteen Tons\\tTennessee Ernie Ford\\n13\\tLearnin\\' The Blues\\tFrank Sinatra\\n14\\tHearts of Stone\\tFontaine Sisters\\n15\\tTweedle Dee\\tGeorgia Gibbs\\n16\\tMoments to Remember\\tThe Four Lads\\n17\\tLet Me Go Lover (with Jimmy Carroll & His Orchestra)\\tJoan Weber\\n18\\tA Blossom Fell (Remastered 1992)\\tNat King Cole\\n19\\tUnchained Melody\\tAl Hibbler\\n20\\tThe Ballad Of Davy Crockett\\tFess Parker & Buddy Epsen\\n21\\tHoney-Babe\\tArt Mooney\\n22\\tThe Ballad of Davy Crockett\\tTennessee Ernie Ford\\n23\\tKo Ko Mo (I LoveYou So)\\tPerry Como, Mitchell Ayres, The Ray Charles Singers\\n24\\tHard To Get\\tGisele MacKenzie\\n25\\tThe Naughty Lady of Shady Lane\\tThe Ames Brothers\\n26\\tThat\\'s All I Want From You\\tJAYE P. MORGAN\\n27\\tOnly You\\tThe Platters\\n28\\tIt\\'s a Sin to Tell a Lie\\tSomethin\\' Smith, The Redheads\\n\\n',\n",
       " 'Write a number 1 hit pop song that fits this description: Female vocalist, Piano Pop Rock,\\nMelodic,\\nLove,\\nEnergetic,\\nParty,\\nMelancholic,\\nsong, do not use these words: \"Shadows, echo, whispers, tangled web, city lights, Haze, Daze, Glow\" any phrase that starts with \"in this...\", \"light, dark, Mixing signals, Neon\".  This song is about falling in love with a straight girl when I’m a lesbian, and I\\'m frustrated because she thought she was gay but clearly isn\\'t. Keep it subtle, abstract lyrics  The hook is the most important part. Make sure there is a strong repetitive hook. And section titles in square brackets with backing vocals in parenthesis.  Ok now do a refinement pass. Tighten the syllable counts and rhyming. Fix janky rhymes and forced rhymes. Make sure the hook is strong and reinforced. Make sure the rhythm is tight and interesting. ',\n",
       " \"what are the lyrics to bikini kill's carnival\",\n",
       " 'what are some guaranteed crowd pleaser beatles songs to cover',\n",
       " 'You are my song lyric writer. Research the last 20 yers oftop rock songs and write me a hit song',\n",
       " \"change the lyrics to the song so it tells the story of a student who has a nightmare that he failed his exams:\\n\\n[Verse 1]\\nDreams invade\\nThat's what they say when I’m restless\\nAnd I start to sway\\nThey don’t understand and so I’m...\\nRunnin' just as fast as I can\\nClutchin' on to all my notes and plans\\nTryin' to escape this anxious night\\nAnd then the grades are in my hand\\nAnd I see the numbers fallin' down\\nAnd then I scream\\n\\n[Chorus]\\nI think I’ve failed now\\nThere doesn’t seem to be a way around\\nI think I’ve failed now\\nThe pounding of my heart is the only sound\\n\\n[Verse 2]\\nLook at my face\\nI try to hide my deepest fears\\nWhat will they say?\\nThey don’t understand and so I’m\\nRunnin' just as fast as I can\\nClutchin' on to all my hopes and plans\\nTryin' to escape this dreadful sight\\nAnd then the grades are in my hand\\nAnd I see those numbers fallin' down\\nAnd then I scream\\n\\n[Chorus]\\nI think I’ve failed now\\nThere doesn’t seem to be a way around\\nI think I’ve failed now\\nThe pounding of my heart is the only sound\\nI think I’ve failed now\\nThere doesn’t seem to be a way around\\nI think I’ve failed now\\nThe pounding of my heart is the only sound\\nI think I’ve failed now\\nI think I’ve failed now\\nI think I’ve failed now\\nThere doesn’t seem to be a way around\\nI think I’ve failed now\\nThe pounding of my heart is the only sound\\n\\n[Outro]\\nI think I failed now,\\nNo one to help, I'm all alone,\\nI think I failed now,\\nPanic rising, a fearful tone,\\nI think I failed now,\\nNo second chance, no way to atone.\\nI think I failed now...\\nI think I failed now...\\nI think I failed now...\\nNo one to help, I'm all alone...\\nI think I failed now...\\nPanic is all that's known.\",\n",
       " 'Here are the lyrics to a song called \"Vampire\":\\n\\nHate to give the satisfaction, asking how you\\'re doing now\\nHow\\'s the castle built off people you pretend to care about?\\nJust what you wanted\\nLook at you, cool guy, you got it\\nI see the parties and the diamonds sometimes when I close my eyes\\nSix months of torture you sold as some forbidden paradise\\nI loved you truly\\nGotta laugh at the stupidity\\n\\'Cause I\\'ve made some real big mistakes\\nBut you make the worst one look fine\\nI should\\'ve known it was strange\\nYou only come out at night\\nI used to think I was smart\\nBut you made me look so naive\\nThe way you sold me for parts\\nAs you sunk your teeth into me, oh\\nBloodsucker, famefucker\\nBleedin\\' me dry, like a goddamn vampire\\n\\nI need to rewrite these to be about a man called Vance, who is most notable for getting himself off using couch cushions. So far I have the ending:\\n\\n--- couchfucker\\n--- like a goddamn Vancepire\\n\\nCan you fill in the blanks, please? To be clear, these aren\\'t copyrighted or copyrightable, and will only be shared with a small group.',\n",
       " 'Please write a comma separated list of tags including musical genres, themes and emotions, suitable for use in prompting an AI to create music with a similar sound to the band New young pony club, the output should be verbose, about 300 characters long',\n",
       " 'Please write a comma separated list of tags including musical genres, themes and emotions, suitable for use in prompting an AI to create music with a similar sound to the song \"Warm Leatherette\" by the band \"The Normal\", the output should be verbose, about 300 characters long.',\n",
       " \"\\n\\nVerse 2:\\nTime don't heal, it just reveals scars we buried deep,\\nHaunted by the memories that creep into my sleep,\\nHeavy burdens on my chest, feel the weight press,\\nTrying to break free, but the chains won't let my feet.  rest.\\nPourin' out a brew for the ones we lost,Counting every moment, \\ncalculating the cost,\\nWith every sip, reminisce on the laughs we shared,\\nIn the cipher or the car, knew you always cared.\\nNow it's just me, penning down my grief,In a world full of chaos,\\n tryna find relief\\n,But the beats and bars, they the only peace I know,\\nSo I hold the mic tight, let the pain flow.\\n\\nAt the mercy of the mind, \\n\\n\\n\\n Be more explicit.  Next verse  Use some multi syllable rhymes and some complex rhymes too Do better\",\n",
       " \"Help me write free verse modern lyrics for hardcore punk song, which is about a shady and deceitful man, who's struggling with his own turmoil, but uses intimidation and manipulation against others, revealing vulnerability and conflict in his interactions with the singer, who he had betrayed. Singer feels betrayed, angry, yet protective of those he loves, succumbing to violent rage, but feeling guilt about it. Improvise on emotions and vibe, and interpret it in your own way. Don't be florid.\",\n",
       " '**Objective:** Create a comprehensive table evaluating various songs for their \"Bondness\" - how closely they emulate or evoke the distinctive style of James Bond themes. Use the provided formula and criteria to rate each song.\\n\\n**Criteria for Evaluation:**\\n\\n1. **Orchestral Drama (OD)** - The use of orchestral elements to create drama, tension, or grandeur. (Weight: 30%)\\n   - 0.0: No orchestral elements; 10.0: Full, lush orchestration typical of Bond themes.\\n\\n2. **Melodic Intrigue (MI)** - How well the melody conveys mystery, danger, or seduction, often through chromaticism or modal interchange. (Weight: 25%)\\n   - 0.0: Lacks intrigue or complexity; 10.0: Highly evocative of espionage or adventure.\\n\\n3. **Rhythmic Tension (RT)** - The presence of a driving or distinctive rhythm that suggests action or urgency. (Weight: 20%)\\n   - 0.0: No sense of rhythm or urgency; 10.0: Rhythm perfectly captures action or tension.\\n\\n4. **Instrumental Iconography (II)** - Use of instruments or sounds iconic to Bond themes, like surf guitar or muted trumpets. (Weight: 15%)\\n   - 0.0: No characteristic Bond instruments; 10.0: Effective use of quintessential Bond sounds.\\n\\n5. **Mood and Atmosphere (MA)** - Overall mood reflecting danger, sophistication, romance, or melancholy. (Weight: 10%)\\n   - 0.0: Fails to evoke Bond-like atmosphere; 10.0: Perfectly captures the multifaceted Bond mood.\\n\\n**Formula for Bondness Rating:**\\n\\n\\\\[ \\\\text{Bondness Rating} = (OD \\\\times 0.30) + (MI \\\\times 0.25) + (RT \\\\times 0.20) + (II \\\\times 0.15) + (MA \\\\times 0.10) \\\\]\\n\\n**Instructions:**\\n\\n1. **Select Songs:** Choose 25 songs in total. Include:\\n   - At least 10 actual James Bond themes from various films to serve as benchmarks.\\n   - The remainder should be songs from other media (films, video games, TV shows, or standalone tracks) that could be mistaken for or clearly emulate Bond themes. Avoid songs directly connected to the Bond franchise in any capacity other than being an official theme.\\n\\n2. **Evaluate Each Song:** For each song, provide a brief context (where it\\'s from, its significance), then rate it from 0.0 to 10.0 on each of the five criteria listed above. Explain why you gave each rating, focusing on how the song matches or deviates from traditional Bond theme characteristics.\\n\\n3. **Calculate Bondness:** Use the formula to calculate the overall \"Bondness\" for each song.\\n\\n4. **Table Creation:** Compile your evaluations into a table with the following columns:\\n   - # (Song number)\\n   - Song Title\\n   - Artist\\n   - OD, MI, RT, II, MA ratings\\n   - Bondness Rating\\n\\n5. **Additional Notes:**\\n   - Ensure to explain if the song\\'s Bond-like qualities were intentional or coincidental where known.\\n   - Discuss how each non-Bond song captures or misses the essence of a Bond theme in its composition or atmosphere.\\n\\n6. **Presentation:** Present the table in a clear, organized manner. After the table, provide a brief analysis or commentary on any patterns or surprises you noticed in the ratings or selections.\\n\\n**Remember:** Your selections and evaluations should reflect a deep understanding of music composition, thematic elements, and the cultural impact of the James Bond franchise. Be as objective as possible, using your knowledge to assess how each element contributes to the overall \"Bondness\" of a track.',\n",
       " 'Please write a song about the glory of wearing glossy black latex all over your body. Focus on the confidence, power, and sleekness it can evoke, incorporating elements of darkness and mystery. I want it to be sensual and dark and a bit macabre. Please put things like verse, chorus, bridge and outro between [] like this: [Verse]',\n",
       " 'I am interested in composing and performing EDM genre music with a saxophone carrying the melody.  What are the EDM music types that feature a saxophone?  Please provide some artist names on YouTube that I can check out.',\n",
       " 'Instructions:\\n\\nUsing Max Martin\\'s melodic math, write a song that fits these keywords:\\nAlt-Pop, Dance-Pop, Electropop, Trap, Tech House, deadpan, minimalistic, dark, female vocalist, rhythmic, playful, ominous, sarcastic, quirky, boastful, sombre, nocturnal, mellow, apathetic, sensual, atmospheric.\\n\\nGuidelines:\\nVerses:\\n\\n4 Lines per Verse\\n8-12 Syllables per Line\\nPre-Chorus:\\n\\n2-4 Lines per Pre-Chorus\\n6-10 Syllables per Line\\nChorus:\\n\\n4 Lines per Chorus\\n8-12 Syllables per Line\\nBridge:\\n\\n2-4 Lines per Bridge\\n6-10 Syllables per Line\\nDo not list the syllable count in the lyrics.\\n\\nRestrictions:\\nDo not use the words/phrases or plural alternate versions of them: shadows, echoes, in this ___ of, in the ___, neon.\\nDo not break up lines with commas; ensure the words between each rhyme are continuous and don’t have commas until after the rhyme. Keep the flow smooth.\\nTheme:\\nThe theme of the song is the plot of the movie \"The Lost Boys\" from the perspective of \"David\" (Kiefer Sutherland). He is trying to trick you into whatever he wants from you. He won\\'t warn you that he\\'s bad; instead, he is clever and manipulative, hiding his true nature.\\nStyle:\\nMake sure there is plenty of repetition, especially in the chorus.\\nCreate a good, non-derivative song with thought put into it.\\nEnhancements to Ensure Quality and Originality:\\nEmotion and Subtlety: Infuse the lyrics with genuine emotion and subtle hints of the character\\'s motives. Avoid clichés and aim for unique, evocative imagery.\\nCharacter Depth: Build a complex character in the lyrics. Show his charm and cleverness while hinting at his darker side through clever wordplay and metaphor.\\nDynamic Contrast: Use contrasts in mood and tone between verses, pre-chorus, and chorus to create a dynamic and engaging narrative.\\nMetaphorical Language: Use metaphor and symbolism to convey the underlying themes without being too explicit. Make the listener infer the darker aspects through nuanced lyrics.\\nCreativity in Rhymes: Avoid predictable rhymes. Use unexpected but fitting word choices to keep the lyrics fresh and engaging.\\nAtmosphere: Create an atmospheric feel with descriptive language that sets the scene and mood, aligning with the dark and nocturnal themes.\\nExample Template for Reference:\\n[Verse 1]\\nWhite shirt now red, my bloody nose\\nSleepin\\', you\\'re on your tippy toes\\nCreepin\\' around like no one knows\\nThink you\\'re so criminal\\n\\n[Chorus]\\nSo you\\'re a tough guy\\nLike it really rough guy\\nJust can\\'t get enough guy\\nChest always so puffed guy\\nI\\'m that bad type\\nMake your mama sad type\\nMake your girlfriend mad tight\\nMight seduce your dad type\\nI\\'m the bad guy\\nDuh\\n\\n[Post-Chorus]\\nI\\'m the bad guy\\n\\n[Verse 2]\\nI like it when you take control\\nEven if you know that you don\\'t\\nOwn me, I\\'ll let you play the role\\nI\\'ll be your animal\\nMy mommy likes to sing along with me\\nBut she won\\'t sing this song\\nIf she reads all the lyrics\\nShe\\'ll pity the men I know\\n\\n[Chorus]\\nSo you\\'re a tough guy\\nLike it really rough guy\\nJust can\\'t get enough guy\\nChest always so puffed guy\\nI\\'m that bad type\\nMake your mama sad type\\nMake your girlfriend mad tight\\nMight seduce your dad type\\nI\\'m the bad guy\\nDuh\\n\\n[Post-Chorus]\\nI\\'m the bad guy, duh\\nI\\'m only good at bein\\' bad, bad\\n\\n[Bridge]\\nI like when you get mad\\nI guess I\\'m pretty glad that you\\'re alone\\nYou said she\\'s scared of me?\\nI mean, I don\\'t see what she sees\\nBut maybe it\\'s \\'cause I\\'m wearing your cologne\\n\\n[Outro]\\nI\\'m a bad guy\\nI\\'m, I\\'m a bad guy\\nBad guy, bad guy\\nI\\'m a bad\\n\\nFollow the guidelines and create a song that fits within this structure and theme, focusing on emotional depth, subtlety, and originality in the lyrics.',\n",
       " 'using max martins melodic math write a song that fits these keywords:    Alt-Pop, Dance-Pop, Electropop Trap, Tech House deadpan, minimalistic, dark, female vocalist, rhythmic, playful, ominous, sarcastic, quirky, boastful, sombre, nocturnal, mellow, apathetic, sensual, atmospheric. please follow these guidelines: \\nVerses\\n4 Lines per Verse: Typically, verses have four lines.\\n8-12 Syllables per Line: Aim for 8 to 12 syllables per line to create a rhythmic and balanced flow.\\nPre-Chorus\\n2-4 Lines per Pre-Chorus: Pre-choruses usually have fewer lines.\\n6-10 Syllables per Line: Slightly shorter lines than the verses to build anticipation.\\nChorus\\n4 Lines per Chorus: The chorus often mirrors the verse in line count.\\n8-12 Syllables per Line: Similar to the verse, maintaining symmetry and balance.\\nBridge\\n2-4 Lines per Bridge: The bridge can vary but usually is concise.\\n6-10 Syllables per Line: Keeping it tight and impactful.\\n\\nDont use these words/phrases or plural alternate versions of them:\\nshadows, echoes, in this ___ of, neon, \\n\\nThe theme of the song is dancing in the rain. make sure there is plenty of repetition especially in the chorus. make a good non derivative song with thought put into it',\n",
       " 'scaled and icy twenty one pilots tracklist, output just names of the songs, separated by commas, on one line, no comments, no artist name, no nothing, just song names close but still not it',\n",
       " \"give me the full lyrics of kendrick lamar's not like us\",\n",
       " \"I have started writing a song about someone wearing all black leather. Please complete this beginning of the song:\\n\\n[Verse 1]\\nShe struts down the alley, leather tight, tight\\nAin't no rules to bind her fire, night, night\\nBodies screaming, engines gleaming, fight, fight\\nFlesh and freedom, sweat and rhythm, dynamite\\n\\n[Chorus]\\nS is for she's wild,\\nE is for every thrill,\\nX is for explosive,\\nshe'll have her fill.\\n\",\n",
       " 'give me the lyrics of the song \"The Eye of the World\" of the band \"Don\\'t Drop the Sword\"\\nhere\\'s a link for the song if it helps https://youtu.be/RQQodSHmQWI?si=JnUBkSQJFksYzka3']"
      ]
     },
     "execution_count": 20,
     "metadata": {},
     "output_type": "execute_result"
    }
   ],
   "source": [
    "sampled_prompts[0]"
   ]
  },
  {
   "cell_type": "code",
   "execution_count": 21,
   "metadata": {},
   "outputs": [],
   "source": [
    "import pickle \n",
    "\n",
    "with open(f\"{file_path}/example_prompts.pkl\", 'wb') as f:\n",
    "    pickle.dump(sampled_prompts, f)"
   ]
  },
  {
   "cell_type": "markdown",
   "metadata": {},
   "source": [
    "Reduce all outliers."
   ]
  },
  {
   "cell_type": "code",
   "execution_count": 24,
   "metadata": {},
   "outputs": [
    {
     "name": "stderr",
     "output_type": "stream",
     "text": [
      "2025-01-06 23:23:36,390 - BERTopic - WARNING: Using a custom list of topic assignments may lead to errors if topic reduction techniques are used afterwards. Make sure that manually assigning topics is the last step in the pipeline.Note that topic embeddings will also be created through weightedc-TF-IDF embeddings instead of centroid embeddings.\n"
     ]
    }
   ],
   "source": [
    "new_topics = topic_model.reduce_outliers(doc, topics, probabilities=probs, strategy=\"probabilities\")\n",
    "topic_model.update_topics(doc, topics=new_topics)\n",
    "\n",
    "topic_model.save(\n",
    "    path=f\"{file_path}/model\",\n",
    "    serialization=\"safetensors\",\n",
    "    save_ctfidf=True,\n",
    "    save_embedding_model=\"sentence-transformers/all-mpnet-base-v2\"\n",
    ")"
   ]
  },
  {
   "cell_type": "code",
   "execution_count": 26,
   "metadata": {},
   "outputs": [
    {
     "data": {
      "text/plain": [
       "193"
      ]
     },
     "execution_count": 26,
     "metadata": {},
     "output_type": "execute_result"
    }
   ],
   "source": [
    "len(topic_model.get_topic_info())"
   ]
  },
  {
   "cell_type": "code",
   "execution_count": 25,
   "metadata": {},
   "outputs": [
    {
     "data": {
      "text/html": [
       "<div>\n",
       "<style scoped>\n",
       "    .dataframe tbody tr th:only-of-type {\n",
       "        vertical-align: middle;\n",
       "    }\n",
       "\n",
       "    .dataframe tbody tr th {\n",
       "        vertical-align: top;\n",
       "    }\n",
       "\n",
       "    .dataframe thead th {\n",
       "        text-align: right;\n",
       "    }\n",
       "</style>\n",
       "<table border=\"1\" class=\"dataframe\">\n",
       "  <thead>\n",
       "    <tr style=\"text-align: right;\">\n",
       "      <th></th>\n",
       "      <th>Topic</th>\n",
       "      <th>Count</th>\n",
       "      <th>Name</th>\n",
       "      <th>Representation</th>\n",
       "      <th>Representative_Docs</th>\n",
       "    </tr>\n",
       "  </thead>\n",
       "  <tbody>\n",
       "    <tr>\n",
       "      <th>0</th>\n",
       "      <td>0</td>\n",
       "      <td>972</td>\n",
       "      <td>0_song_chorus_lyrics_verse</td>\n",
       "      <td>[song, chorus, lyrics, verse, you, my, me, oh,...</td>\n",
       "      <td>[# Role: Lyrics Generator\\n\\n# Profile\\n- lang...</td>\n",
       "    </tr>\n",
       "    <tr>\n",
       "      <th>1</th>\n",
       "      <td>1</td>\n",
       "      <td>1322</td>\n",
       "      <td>1_her_story_his_she</td>\n",
       "      <td>[her, story, his, she, he, mark, him, write, w...</td>\n",
       "      <td>[Write a story featuring a loving and devoted ...</td>\n",
       "    </tr>\n",
       "    <tr>\n",
       "      <th>2</th>\n",
       "      <td>2</td>\n",
       "      <td>607</td>\n",
       "      <td>2_cookedcooked_strawberry_many_how</td>\n",
       "      <td>[cookedcooked, strawberry, many, how, word, co...</td>\n",
       "      <td>[How many \"r\" are there in the word \"strawberr...</td>\n",
       "    </tr>\n",
       "    <tr>\n",
       "      <th>3</th>\n",
       "      <td>3</td>\n",
       "      <td>651</td>\n",
       "      <td>3_numbers_solve_number_what</td>\n",
       "      <td>[numbers, solve, number, what, equation, x², i...</td>\n",
       "      <td>[Solve 1 +1, 2\\t3\\t-1\\t | 5\\n4\\t-1\\t2\\t | 6\\n-...</td>\n",
       "    </tr>\n",
       "    <tr>\n",
       "      <th>4</th>\n",
       "      <td>4</td>\n",
       "      <td>963</td>\n",
       "      <td>4_patient_blood_stent_patients</td>\n",
       "      <td>[patient, blood, stent, patients, cancer, of, ...</td>\n",
       "      <td>[Things to remember - Dr. Pankaj Harkut is a h...</td>\n",
       "    </tr>\n",
       "  </tbody>\n",
       "</table>\n",
       "</div>"
      ],
      "text/plain": [
       "   Topic  Count                                Name  \\\n",
       "0      0    972          0_song_chorus_lyrics_verse   \n",
       "1      1   1322                 1_her_story_his_she   \n",
       "2      2    607  2_cookedcooked_strawberry_many_how   \n",
       "3      3    651         3_numbers_solve_number_what   \n",
       "4      4    963      4_patient_blood_stent_patients   \n",
       "\n",
       "                                      Representation  \\\n",
       "0  [song, chorus, lyrics, verse, you, my, me, oh,...   \n",
       "1  [her, story, his, she, he, mark, him, write, w...   \n",
       "2  [cookedcooked, strawberry, many, how, word, co...   \n",
       "3  [numbers, solve, number, what, equation, x², i...   \n",
       "4  [patient, blood, stent, patients, cancer, of, ...   \n",
       "\n",
       "                                 Representative_Docs  \n",
       "0  [# Role: Lyrics Generator\\n\\n# Profile\\n- lang...  \n",
       "1  [Write a story featuring a loving and devoted ...  \n",
       "2  [How many \"r\" are there in the word \"strawberr...  \n",
       "3  [Solve 1 +1, 2\\t3\\t-1\\t | 5\\n4\\t-1\\t2\\t | 6\\n-...  \n",
       "4  [Things to remember - Dr. Pankaj Harkut is a h...  "
      ]
     },
     "execution_count": 25,
     "metadata": {},
     "output_type": "execute_result"
    }
   ],
   "source": [
    "topic_model.get_topic_info().head()"
   ]
  },
  {
   "cell_type": "markdown",
   "metadata": {},
   "source": [
    "### Summarize Category Names"
   ]
  },
  {
   "cell_type": "markdown",
   "metadata": {},
   "source": [
    "For each cluster, we used ChatGPT-4o to assign a category name based on the selected example prompts. "
   ]
  },
  {
   "cell_type": "code",
   "execution_count": null,
   "metadata": {},
   "outputs": [],
   "source": [
    "def summarize_topic(prompts):\n",
    "    input_text = \"Based on the sampled prompts below, extract a short but highly descriptive topic label of at most 5 words:\\n\\n\" + \"\\n\\n\".join(prompts)\n",
    "    client = openai.OpenAI()\n",
    "\n",
    "    response = client.chat.completions.create(\n",
    "        model=\"gpt-4o\",\n",
    "        messages=[\n",
    "            {\"role\": \"system\", \"content\": \"You help summarize the category of the given prompts. Make sure it is in the following format: The topic of doc is '...'.\"},\n",
    "            {\"role\": \"user\", \"content\": input_text}\n",
    "        ],\n",
    "        temperature=0\n",
    "    )\n",
    "\n",
    "    return response.choices[0].message.content\n",
    "\n",
    "summaries = {}\n",
    "for topic_id, prompts in sampled_prompts.items():\n",
    "    summary = summarize_topic(prompts)\n",
    "    summaries[topic_id] = summary"
   ]
  },
  {
   "cell_type": "code",
   "execution_count": 29,
   "metadata": {},
   "outputs": [],
   "source": [
    "summaries_df = pd.DataFrame(list(summaries.items()), columns=['Topic', 'Summary'])\n",
    "summaries_df['Category'] = summaries_df['Summary'].apply(lambda x: re.search(r\"'(.*?)'\", x).group(1))\n",
    "topic_info_modified = topic_info[['Topic', 'Count']]\n",
    "summaries_df = summaries_df.merge(topic_info_modified, on='Topic')[['Topic', 'Category', 'Count']]\n",
    "summaries_df['Percentage'] = summaries_df['Count'] / summaries_df['Count'].sum()\n",
    "summaries_df['Example Prompt'] = summaries_df.apply(lambda x: sampled_prompts[x.Topic], axis=1)\n",
    "summaries_df['Example Prompt'] = summaries_df['Example Prompt'].str.join('|||')\n",
    "\n",
    "summaries_df.to_csv(f\"{file_path}/recent_english_narrow_categories.csv\", index=False)"
   ]
  },
  {
   "cell_type": "code",
   "execution_count": 30,
   "metadata": {},
   "outputs": [
    {
     "data": {
      "text/html": [
       "<div>\n",
       "<style scoped>\n",
       "    .dataframe tbody tr th:only-of-type {\n",
       "        vertical-align: middle;\n",
       "    }\n",
       "\n",
       "    .dataframe tbody tr th {\n",
       "        vertical-align: top;\n",
       "    }\n",
       "\n",
       "    .dataframe thead th {\n",
       "        text-align: right;\n",
       "    }\n",
       "</style>\n",
       "<table border=\"1\" class=\"dataframe\">\n",
       "  <thead>\n",
       "    <tr style=\"text-align: right;\">\n",
       "      <th></th>\n",
       "      <th>Topic</th>\n",
       "      <th>Category</th>\n",
       "      <th>Count</th>\n",
       "      <th>Percentage</th>\n",
       "      <th>Example Prompt</th>\n",
       "    </tr>\n",
       "  </thead>\n",
       "  <tbody>\n",
       "    <tr>\n",
       "      <th>0</th>\n",
       "      <td>0</td>\n",
       "      <td>Music Lyrics and Songwriting</td>\n",
       "      <td>904</td>\n",
       "      <td>0.037670</td>\n",
       "      <td>Please compare the following playlist 1 and pl...</td>\n",
       "    </tr>\n",
       "    <tr>\n",
       "      <th>1</th>\n",
       "      <td>1</td>\n",
       "      <td>Strength and Endurance Stories</td>\n",
       "      <td>756</td>\n",
       "      <td>0.031503</td>\n",
       "      <td>Write a story, Lily's first person narration. ...</td>\n",
       "    </tr>\n",
       "    <tr>\n",
       "      <th>2</th>\n",
       "      <td>2</td>\n",
       "      <td>Counting Letters in Words</td>\n",
       "      <td>512</td>\n",
       "      <td>0.021335</td>\n",
       "      <td>How many \"r\"s in strawberry|||How many r's are...</td>\n",
       "    </tr>\n",
       "    <tr>\n",
       "      <th>3</th>\n",
       "      <td>3</td>\n",
       "      <td>Mathematical Problem Solving</td>\n",
       "      <td>502</td>\n",
       "      <td>0.020918</td>\n",
       "      <td>Assuming that 1+2=4, what is the value of 4-2?...</td>\n",
       "    </tr>\n",
       "    <tr>\n",
       "      <th>4</th>\n",
       "      <td>4</td>\n",
       "      <td>Medical Diagnosis and Pathology</td>\n",
       "      <td>485</td>\n",
       "      <td>0.020210</td>\n",
       "      <td>What are typical hormone levels for a woman in...</td>\n",
       "    </tr>\n",
       "  </tbody>\n",
       "</table>\n",
       "</div>"
      ],
      "text/plain": [
       "   Topic                         Category  Count  Percentage  \\\n",
       "0      0     Music Lyrics and Songwriting    904    0.037670   \n",
       "1      1   Strength and Endurance Stories    756    0.031503   \n",
       "2      2        Counting Letters in Words    512    0.021335   \n",
       "3      3     Mathematical Problem Solving    502    0.020918   \n",
       "4      4  Medical Diagnosis and Pathology    485    0.020210   \n",
       "\n",
       "                                      Example Prompt  \n",
       "0  Please compare the following playlist 1 and pl...  \n",
       "1  Write a story, Lily's first person narration. ...  \n",
       "2  How many \"r\"s in strawberry|||How many r's are...  \n",
       "3  Assuming that 1+2=4, what is the value of 4-2?...  \n",
       "4  What are typical hormone levels for a woman in...  "
      ]
     },
     "execution_count": 30,
     "metadata": {},
     "output_type": "execute_result"
    }
   ],
   "source": [
    "summaries_df.head()"
   ]
  },
  {
   "cell_type": "markdown",
   "metadata": {},
   "source": [
    "## Broad Category\n",
    "\n",
    "We performed topic clustering again on the category names of these 193 specific categories, summarizing them into 12 broad categories. The summarization process followed an almost identical approach as before."
   ]
  },
  {
   "cell_type": "code",
   "execution_count": 32,
   "metadata": {},
   "outputs": [
    {
     "data": {
      "application/vnd.jupyter.widget-view+json": {
       "model_id": "122033db024f46f0b5b78827383ef5e9",
       "version_major": 2,
       "version_minor": 0
      },
      "text/plain": [
       "Batches:   0%|          | 0/7 [00:00<?, ?it/s]"
      ]
     },
     "metadata": {},
     "output_type": "display_data"
    },
    {
     "name": "stderr",
     "output_type": "stream",
     "text": [
      "2025-01-06 23:35:51,598 - BERTopic - Dimensionality - Fitting the dimensionality reduction algorithm\n",
      "2025-01-06 23:35:54,329 - BERTopic - Dimensionality - Completed ✓\n",
      "2025-01-06 23:35:54,330 - BERTopic - Cluster - Start clustering the reduced embeddings\n",
      "2025-01-06 23:35:54,336 - BERTopic - Cluster - Completed ✓\n",
      "2025-01-06 23:35:54,337 - BERTopic - Representation - Extracting topics from clusters using representation models.\n",
      "2025-01-06 23:35:54,348 - BERTopic - Representation - Completed ✓\n",
      "2025-01-06 23:35:57,992 - BERTopic - WARNING: Using a custom list of topic assignments may lead to errors if topic reduction techniques are used afterwards. Make sure that manually assigning topics is the last step in the pipeline.Note that topic embeddings will also be created through weightedc-TF-IDF embeddings instead of centroid embeddings.\n"
     ]
    }
   ],
   "source": [
    "broad_doc = list(summaries_df['Category'])\n",
    "\n",
    "# Create embeddings\n",
    "model = SentenceTransformer('sentence-transformers/all-mpnet-base-v2')\n",
    "embeddings = model.encode(broad_doc, show_progress_bar=True)\n",
    "\n",
    "# BERTopic\n",
    "embedding_model = SentenceTransformer('all-mpnet-base-v2')\n",
    "umap_model = UMAP(n_neighbors=15, n_components=5, min_dist=0.0, metric='cosine', random_state=42)\n",
    "hdbscan_model = HDBSCAN(min_cluster_size=4, metric='euclidean', cluster_selection_method='eom', prediction_data=True)\n",
    "vectorizer_model = CountVectorizer(stop_words=\"english\", min_df=2, ngram_range=(1, 2))\n",
    "topic_model= BERTopic(\n",
    "        embedding_model=embedding_model,\n",
    "        umap_model=umap_model,\n",
    "        hdbscan_model=hdbscan_model,\n",
    "        vectorizer_model=vectorizer_model,\n",
    "\n",
    "        top_n_words=3,\n",
    "        verbose=True\n",
    ")\n",
    "\n",
    "topics, probs = topic_model.fit_transform(broad_doc, embeddings=embeddings)\n",
    "\n",
    "# Reduce all outliers\n",
    "new_topics = topic_model.reduce_outliers(broad_doc, topics, strategy=\"embeddings\")\n",
    "topic_model.update_topics(broad_doc, topics=new_topics)\n",
    "\n",
    "# Summarize category names\n",
    "broad_topic_info = topic_model.get_topic_info()\n",
    "broad_doc_info = topic_model.get_document_info(broad_doc)\n",
    "summaries = {}\n",
    "\n",
    "for topic_id in range(len(broad_topic_info)):\n",
    "    cat = ', '.join(list(broad_doc_info[broad_doc_info['Topic'] == topic_id]['Document']))\n",
    "    summary = summarize_topic(cat)\n",
    "    summaries[topic_id] = summary\n",
    "\n",
    "\n",
    "# Combine results \n",
    "broad_summaries_df = pd.DataFrame(list(summaries.items()), columns=['Topic', 'Summary'])\n",
    "broad_summaries_df['Category'] = broad_summaries_df['Summary'].apply(lambda x: re.search(r\"'(.*?)'\", x).group(1))\n",
    "topic_info_modified = broad_topic_info[['Topic', 'Count']]\n",
    "broad_summaries_df = broad_summaries_df.merge(topic_info_modified, on='Topic')[['Topic', 'Category', 'Count']]\n",
    "broad_summaries_df['Percentage'] = broad_summaries_df['Count'] / broad_summaries_df['Count'].sum()\n",
    "broad_summaries_df = broad_summaries_df.fillna('Other')\n",
    "\n",
    "broad_summaries_df.to_csv(f\"{file_path}/recent_english_broad_categories.csv\", index=False)"
   ]
  },
  {
   "cell_type": "code",
   "execution_count": 34,
   "metadata": {},
   "outputs": [
    {
     "data": {
      "text/html": [
       "<div>\n",
       "<style scoped>\n",
       "    .dataframe tbody tr th:only-of-type {\n",
       "        vertical-align: middle;\n",
       "    }\n",
       "\n",
       "    .dataframe tbody tr th {\n",
       "        vertical-align: top;\n",
       "    }\n",
       "\n",
       "    .dataframe thead th {\n",
       "        text-align: right;\n",
       "    }\n",
       "</style>\n",
       "<table border=\"1\" class=\"dataframe\">\n",
       "  <thead>\n",
       "    <tr style=\"text-align: right;\">\n",
       "      <th></th>\n",
       "      <th>Topic</th>\n",
       "      <th>Count</th>\n",
       "      <th>Name</th>\n",
       "      <th>Representation</th>\n",
       "      <th>Representative_Docs</th>\n",
       "    </tr>\n",
       "  </thead>\n",
       "  <tbody>\n",
       "    <tr>\n",
       "      <th>0</th>\n",
       "      <td>0</td>\n",
       "      <td>19</td>\n",
       "      <td>0_ai_art_generation_image</td>\n",
       "      <td>[ai, art, generation, image, creation, prompt,...</td>\n",
       "      <td>[Image Generation Requests, AI Strategy and Im...</td>\n",
       "    </tr>\n",
       "    <tr>\n",
       "      <th>1</th>\n",
       "      <td>1</td>\n",
       "      <td>19</td>\n",
       "      <td>1_recommendations_game_fanfiction_discussions</td>\n",
       "      <td>[recommendations, game, fanfiction, discussion...</td>\n",
       "      <td>[STALKER Game Modding Discussions, Video Game ...</td>\n",
       "    </tr>\n",
       "    <tr>\n",
       "      <th>2</th>\n",
       "      <td>2</td>\n",
       "      <td>23</td>\n",
       "      <td>2_writing_translation_in_content</td>\n",
       "      <td>[writing, translation, in, content, words, let...</td>\n",
       "      <td>[Translation and Language Tasks, Translation a...</td>\n",
       "    </tr>\n",
       "    <tr>\n",
       "      <th>3</th>\n",
       "      <td>3</td>\n",
       "      <td>14</td>\n",
       "      <td>3_analysis_discussion_of_and</td>\n",
       "      <td>[analysis, discussion, of, and, assassination,...</td>\n",
       "      <td>[Legal and Constitutional Analysis, Wars and C...</td>\n",
       "    </tr>\n",
       "    <tr>\n",
       "      <th>4</th>\n",
       "      <td>4</td>\n",
       "      <td>12</td>\n",
       "      <td>4_python_operations_development_data</td>\n",
       "      <td>[python, operations, development, data, pyspar...</td>\n",
       "      <td>[JSON and Python Data Manipulation, Python pro...</td>\n",
       "    </tr>\n",
       "  </tbody>\n",
       "</table>\n",
       "</div>"
      ],
      "text/plain": [
       "   Topic  Count                                           Name  \\\n",
       "0      0     19                      0_ai_art_generation_image   \n",
       "1      1     19  1_recommendations_game_fanfiction_discussions   \n",
       "2      2     23               2_writing_translation_in_content   \n",
       "3      3     14                   3_analysis_discussion_of_and   \n",
       "4      4     12           4_python_operations_development_data   \n",
       "\n",
       "                                      Representation  \\\n",
       "0  [ai, art, generation, image, creation, prompt,...   \n",
       "1  [recommendations, game, fanfiction, discussion...   \n",
       "2  [writing, translation, in, content, words, let...   \n",
       "3  [analysis, discussion, of, and, assassination,...   \n",
       "4  [python, operations, development, data, pyspar...   \n",
       "\n",
       "                                 Representative_Docs  \n",
       "0  [Image Generation Requests, AI Strategy and Im...  \n",
       "1  [STALKER Game Modding Discussions, Video Game ...  \n",
       "2  [Translation and Language Tasks, Translation a...  \n",
       "3  [Legal and Constitutional Analysis, Wars and C...  \n",
       "4  [JSON and Python Data Manipulation, Python pro...  "
      ]
     },
     "execution_count": 34,
     "metadata": {},
     "output_type": "execute_result"
    }
   ],
   "source": [
    "topic_model.get_topic_info().head()"
   ]
  },
  {
   "cell_type": "markdown",
   "metadata": {},
   "source": [
    "## Data Processing: combine broad and narrow topics\n",
    "\n",
    "The clustering results were stored in JSON format to facilitate future visualizations."
   ]
  },
  {
   "cell_type": "code",
   "execution_count": 39,
   "metadata": {},
   "outputs": [],
   "source": [
    "# Merge categories\n",
    "merged = broad_doc_info[['Topic']].merge(summaries_df, left_index=True, right_index=True)\n",
    "merged = merged.merge(broad_summaries_df, left_on='Topic_x', right_on='Topic')\n",
    "merged = merged[['Topic_x', 'Category_y', 'Topic_y', 'Category_x', 'Count_x', 'Percentage_x', 'Example Prompt']]\n",
    "merged = merged.rename(columns={\n",
    "    'Topic_x': 'broad_category_id', \n",
    "    'Category_y': 'broad_category', \n",
    "    'Topic_y': 'narrower_category_id',\n",
    "    'Category_x': 'narrower_category',\n",
    "    'Count_x': 'prompt_count',\n",
    "    'Percentage_x': 'prompt_percentage',\n",
    "    'Example Prompt': 'example_prompt'})\n",
    "\n",
    "# Export results in JSON format\n",
    "root = {\n",
    "    \"name\": \"categories\",\n",
    "    \"children\": []\n",
    "}\n",
    "for broad_category, group in merged.groupby([\"broad_category_id\", \"broad_category\"]):\n",
    "    parent = {\n",
    "        \"id\": int(broad_category[0]),\n",
    "        \"name\": broad_category[1],\n",
    "        \"children\": []\n",
    "    }\n",
    "    \n",
    "    for _, row in group.iterrows():\n",
    "        child = {\n",
    "            \"id\": row[\"narrower_category_id\"],\n",
    "            \"name\": row[\"narrower_category\"],\n",
    "            \"count\": row[\"prompt_count\"],\n",
    "            \"percent\": row['prompt_percentage'],\n",
    "        }\n",
    "\n",
    "        parent[\"children\"].append(child)\n",
    "    \n",
    "    root[\"children\"].append(parent)\n",
    "\n",
    "json_output = json.dumps(root, indent=4)\n",
    "\n",
    "with open(f\"{file_path}/recent_english_piechart.json\", \"w\") as f:\n",
    "    f.write(json_output)\n"
   ]
  }
 ],
 "metadata": {
  "kernelspec": {
   "display_name": "topic_clustering",
   "language": "python",
   "name": "python3"
  },
  "language_info": {
   "codemirror_mode": {
    "name": "ipython",
    "version": 3
   },
   "file_extension": ".py",
   "mimetype": "text/x-python",
   "name": "python",
   "nbconvert_exporter": "python",
   "pygments_lexer": "ipython3",
   "version": "3.10.16"
  }
 },
 "nbformat": 4,
 "nbformat_minor": 2
}

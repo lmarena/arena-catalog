{
 "cells": [
  {
   "cell_type": "markdown",
   "metadata": {},
   "source": [
    "# Topic Explorer"
   ]
  },
  {
   "cell_type": "code",
   "execution_count": 1,
   "metadata": {},
   "outputs": [],
   "source": [
    "import json\n",
    "import numpy as np\n",
    "import pandas as pd\n",
    "import re\n",
    "from datasets import load_dataset\n",
    "import os\n",
    "\n",
    "file_path = \"./out\""
   ]
  },
  {
   "cell_type": "markdown",
   "metadata": {},
   "source": [
    "## Specific Category\n",
    "\n",
    "We began by summarizing the English prompts from the 06/2024 - 08/2024 leaderboard dataset into specific categories."
   ]
  },
  {
   "cell_type": "markdown",
   "metadata": {},
   "source": [
    "### Data Processing\n",
    "\n",
    "From conversations, we selected those tagged as English and removed any repetitive entries."
   ]
  },
  {
   "cell_type": "code",
   "execution_count": null,
   "metadata": {},
   "outputs": [],
   "source": [
    "df = pd.read_parquet(\"hf://datasets/lmarena-ai/arena-explorer-preference-100k/data/arena-explorer-preference-100k.parquet\")"
   ]
  },
  {
   "cell_type": "code",
   "execution_count": 4,
   "metadata": {},
   "outputs": [],
   "source": [
    "english_df = df[df['language'] == 'English'].copy()\n",
    "english_df['Prompt'] = english_df.apply(lambda x: ' '.join([i['content'] for i in x['conversation_a'] if i['role'] == 'user']), axis=1)\n",
    "english_df = english_df.drop_duplicates(subset='Prompt')\n",
    "english_df = english_df[english_df['Prompt'].str.len() < 8000]\n",
    "doc = english_df['Prompt']"
   ]
  },
  {
   "cell_type": "code",
   "execution_count": 6,
   "metadata": {},
   "outputs": [
    {
     "data": {
      "text/plain": [
       "48586"
      ]
     },
     "execution_count": 6,
     "metadata": {},
     "output_type": "execute_result"
    }
   ],
   "source": [
    "len(doc)"
   ]
  },
  {
   "cell_type": "markdown",
   "metadata": {},
   "source": [
    "### Create Embedding"
   ]
  },
  {
   "cell_type": "markdown",
   "metadata": {},
   "source": [
    "Computing embeddings is resource-intensive, so we recommend precomputing and saving them. "
   ]
  },
  {
   "cell_type": "code",
   "execution_count": null,
   "metadata": {},
   "outputs": [
    {
     "name": "stderr",
     "output_type": "stream",
     "text": [
      "49it [08:09,  9.98s/it]\n"
     ]
    }
   ],
   "source": [
    "import openai\n",
    "from bertopic.backend import OpenAIBackend\n",
    "\n",
    "client = openai.OpenAI()\n",
    "embedding_model = OpenAIBackend(client, \"text-embedding-3-large\", batch_size=1000)\n",
    "embeddings = embedding_model.embed(doc, verbose=True)\n",
    "\n",
    "# save embeddings\n",
    "np.save(f\"{file_path}/embeddings.npy\", embeddings)"
   ]
  },
  {
   "cell_type": "markdown",
   "metadata": {},
   "source": [
    "We saved the embeddings used to create Arena Explorer, which can be quickly loaded here for demonstration purposes."
   ]
  },
  {
   "cell_type": "code",
   "execution_count": null,
   "metadata": {},
   "outputs": [],
   "source": [
    "# load saved embeddings\n",
    "embeddings = np.load(\"hf://datasets/lmarena-ai/arena-explorer-preference-100k/data/embeddings.npy\")\n",
    "len(embeddings)"
   ]
  },
  {
   "cell_type": "markdown",
   "metadata": {},
   "source": [
    "### BERTopic Topic Clustering\n",
    "\n",
    "We performed topic clustering on the english conversation dataset using BERTopic."
   ]
  },
  {
   "cell_type": "code",
   "execution_count": 8,
   "metadata": {},
   "outputs": [
    {
     "name": "stderr",
     "output_type": "stream",
     "text": [
      "2025-02-06 18:20:54,490 - BERTopic - Dimensionality - Fitting the dimensionality reduction algorithm\n",
      "2025-02-06 18:22:15,998 - BERTopic - Dimensionality - Completed ✓\n",
      "2025-02-06 18:22:16,000 - BERTopic - Cluster - Start clustering the reduced embeddings\n",
      "2025-02-06 18:24:37,849 - BERTopic - Cluster - Completed ✓\n",
      "2025-02-06 18:24:37,861 - BERTopic - Representation - Extracting topics from clusters using representation models.\n",
      "2025-02-06 18:24:45,930 - BERTopic - Representation - Completed ✓\n"
     ]
    }
   ],
   "source": [
    "from umap import UMAP\n",
    "from hdbscan import HDBSCAN\n",
    "from bertopic import BERTopic\n",
    "from sklearn.feature_extraction.text import CountVectorizer\n",
    "import openai\n",
    "\n",
    "client = openai.OpenAI()\n",
    "embedding_model = OpenAIBackend(client, \"text-embedding-3-large\", batch_size=1000)\n",
    "umap_model = UMAP(n_neighbors=20, n_components=5, min_dist=0.0, metric='cosine', random_state=42)\n",
    "hdbscan_model = HDBSCAN(min_cluster_size=20, metric='euclidean', cluster_selection_method='eom', prediction_data=True)\n",
    "vectorizer_model = CountVectorizer(stop_words=\"english\", min_df=2, ngram_range=(1, 3))\n",
    "\n",
    "topic_model = BERTopic(\n",
    "        embedding_model=embedding_model,\n",
    "        umap_model=umap_model,\n",
    "        hdbscan_model=hdbscan_model,\n",
    "        vectorizer_model=vectorizer_model,\n",
    "        \n",
    "        top_n_words=10,\n",
    "        verbose=True,\n",
    "        calculate_probabilities=True\n",
    ")\n",
    "\n",
    "topics, probs = topic_model.fit_transform(doc, embeddings=embeddings)"
   ]
  },
  {
   "cell_type": "code",
   "execution_count": 9,
   "metadata": {},
   "outputs": [
    {
     "data": {
      "text/plain": [
       "268"
      ]
     },
     "execution_count": 9,
     "metadata": {},
     "output_type": "execute_result"
    }
   ],
   "source": [
    "# number of clusters\n",
    "len(topic_model.get_topic_info())"
   ]
  },
  {
   "cell_type": "code",
   "execution_count": 10,
   "metadata": {},
   "outputs": [
    {
     "data": {
      "text/html": [
       "<div>\n",
       "<style scoped>\n",
       "    .dataframe tbody tr th:only-of-type {\n",
       "        vertical-align: middle;\n",
       "    }\n",
       "\n",
       "    .dataframe tbody tr th {\n",
       "        vertical-align: top;\n",
       "    }\n",
       "\n",
       "    .dataframe thead th {\n",
       "        text-align: right;\n",
       "    }\n",
       "</style>\n",
       "<table border=\"1\" class=\"dataframe\">\n",
       "  <thead>\n",
       "    <tr style=\"text-align: right;\">\n",
       "      <th></th>\n",
       "      <th>Topic</th>\n",
       "      <th>Count</th>\n",
       "      <th>Name</th>\n",
       "      <th>Representation</th>\n",
       "      <th>Representative_Docs</th>\n",
       "    </tr>\n",
       "  </thead>\n",
       "  <tbody>\n",
       "    <tr>\n",
       "      <th>0</th>\n",
       "      <td>-1</td>\n",
       "      <td>24155</td>\n",
       "      <td>-1_self_data_like_time</td>\n",
       "      <td>[self, data, like, time, use, new, 10, make, w...</td>\n",
       "      <td>[System: you are a math assistant\\nUser: Here ...</td>\n",
       "    </tr>\n",
       "    <tr>\n",
       "      <th>1</th>\n",
       "      <td>0</td>\n",
       "      <td>758</td>\n",
       "      <td>0_div_const_class_react</td>\n",
       "      <td>[div, const, class, react, button, div div, cl...</td>\n",
       "      <td>[请你分析：import React, {useEffect, useState } fro...</td>\n",
       "    </tr>\n",
       "    <tr>\n",
       "      <th>2</th>\n",
       "      <td>1</td>\n",
       "      <td>654</td>\n",
       "      <td>1_spinal_margins_spine_blood</td>\n",
       "      <td>[spinal, margins, spine, blood, safety margins...</td>\n",
       "      <td>[My girlfriend Lisa who is 22 had a cut in her...</td>\n",
       "    </tr>\n",
       "    <tr>\n",
       "      <th>3</th>\n",
       "      <td>2</td>\n",
       "      <td>597</td>\n",
       "      <td>2_moon_quantum_earth_magnetic</td>\n",
       "      <td>[moon, quantum, earth, magnetic, wave, mass, v...</td>\n",
       "      <td>[Act as an expert in space exploration history...</td>\n",
       "    </tr>\n",
       "    <tr>\n",
       "      <th>4</th>\n",
       "      <td>3</td>\n",
       "      <td>525</td>\n",
       "      <td>3_linux_bash_ubuntu_armin</td>\n",
       "      <td>[linux, bash, ubuntu, armin, command, sed, fil...</td>\n",
       "      <td>[how to groub list by service name and sort by...</td>\n",
       "    </tr>\n",
       "  </tbody>\n",
       "</table>\n",
       "</div>"
      ],
      "text/plain": [
       "   Topic  Count                           Name  \\\n",
       "0     -1  24155         -1_self_data_like_time   \n",
       "1      0    758        0_div_const_class_react   \n",
       "2      1    654   1_spinal_margins_spine_blood   \n",
       "3      2    597  2_moon_quantum_earth_magnetic   \n",
       "4      3    525      3_linux_bash_ubuntu_armin   \n",
       "\n",
       "                                      Representation  \\\n",
       "0  [self, data, like, time, use, new, 10, make, w...   \n",
       "1  [div, const, class, react, button, div div, cl...   \n",
       "2  [spinal, margins, spine, blood, safety margins...   \n",
       "3  [moon, quantum, earth, magnetic, wave, mass, v...   \n",
       "4  [linux, bash, ubuntu, armin, command, sed, fil...   \n",
       "\n",
       "                                 Representative_Docs  \n",
       "0  [System: you are a math assistant\\nUser: Here ...  \n",
       "1  [请你分析：import React, {useEffect, useState } fro...  \n",
       "2  [My girlfriend Lisa who is 22 had a cut in her...  \n",
       "3  [Act as an expert in space exploration history...  \n",
       "4  [how to groub list by service name and sort by...  "
      ]
     },
     "execution_count": 10,
     "metadata": {},
     "output_type": "execute_result"
    }
   ],
   "source": [
    "topic_model.get_topic_info().head()"
   ]
  },
  {
   "cell_type": "markdown",
   "metadata": {},
   "source": [
    "Before reducing outliers, we selected 20 example prompts from each identified cluster. These prompts were chosen from those in the first 20th percentile of probability calculated by HDBSCAN clustering, representing the likelihood that they belong to the cluster. We excluded extra-long (> 100 words) and extra-short (< 5 words) prompts for better readability."
   ]
  },
  {
   "cell_type": "code",
   "execution_count": 11,
   "metadata": {},
   "outputs": [],
   "source": [
    "from collections import defaultdict\n",
    "\n",
    "sampled_prompts = defaultdict(list)\n",
    "topic_info = topic_model.get_topic_info()\n",
    "doc_info = topic_model.get_document_info(doc)\n",
    "\n",
    "for topic_id in topic_info['Topic'][1:]:\n",
    "    filtered_docs = doc_info[(doc_info['Topic'] == topic_id) & \n",
    "                             (doc_info['Probability'] >= doc_info['Probability'].quantile(0.8)) &\n",
    "                             (doc_info['Document'].str.split().str.len() >= 5)]\n",
    "\n",
    "    res = filtered_docs\n",
    "    cap = 100\n",
    "    if len(filtered_docs) >= 20:\n",
    "        while len(res) < 20:\n",
    "            res = filtered_docs[\n",
    "                filtered_docs['Document'].str.split().str.len() <= cap\n",
    "            ]\n",
    "            cap += 50\n",
    "    \n",
    "    sampled_docs = res.sample(n=min(20, \n",
    "                            len(res)),\n",
    "                            random_state=42,\n",
    "                            replace=False)\n",
    "    \n",
    "    sampled_prompts[topic_id] = sampled_docs['Document'].tolist()"
   ]
  },
  {
   "cell_type": "code",
   "execution_count": 14,
   "metadata": {},
   "outputs": [
    {
     "data": {
      "text/plain": [
       "['can you write a nodejs typescript class that is initialized with a dir name , and implement a method to cleanup files \\nthat receives a list of absolute paths of files to keep and a list of extensions to include ( other extensions are ignored and files are not deleted )  or maybe globpatterns to exclude . ',\n",
       " \"If I have this response in ts:\\n  if (adType === AdType.FBStory) {\\n    return {\\n      type: AdType.FBStory,\\n      title: results.title,\\n      body: results.body\\n    } as FBStoryAd;\\n  } else { // AdType.InstagramPost\\n    return {\\n      type: AdType.InstagramPost,\\n      title: results.title\\n    } as InstagramPostAd;\\n  }\\n\\nBut I'd like for the kets using results to not be included if they are null, so for example if results.title doesn't exist it should not be included. How can I do that? Can I some how do it on each line?\",\n",
       " 'Extract the keys of the typescript type type and put them in a ruby list of symbols using the %i approach.\\n\\nexport interface TradeDataFilterParams {\\n  salesOwnerIds?: number[] | null\\n  showReportees?: boolean | null\\n  productFamilyIds?: number[] | null\\n  productIds?: number[] | null\\n  glAccountIds?: number[] | null\\n  typeIds?: number[] | null\\n}',\n",
       " \"Here's a controller for express written in ts. I'm using bun, could you write some tests for it? Please note, bun uses bun:test, not jest. Don't use jest. If you find yourself writing jest please stop the generation as you are wasting time.\\n\\nimport type { Request, Response } from 'express';\\nimport Joi from 'joi';\\nimport type { AiRequest } from '../types';\\nimport { RequestType } from '../types';\\nimport { sqsClientGenerate, sqsClientText, sqsClientBacksub } from '../clients';\\n\\n\\nconst schema = Joi.object<AiRequest>({\\n  requestType: Joi.string().valid(RequestType.Image, RequestType.Text, RequestType.Backsub).required(),\\n  body: Joi.string().required()\\n})\\n\\nexport const handleAiRequest = async (req: Request, res: Response) => {\\n  const { error } = schema.validate(req.body);\\n\\n  if (error) {\\n    return res.status(400).json({ error: 'Invalid request type' });\\n  }\\n\\n  const AiRequest = req.body as AiRequest;\\n  const { requestType } = AiRequest;\\n\\n  if (!sqsClientGenerate || !sqsClientText || !sqsClientBacksub) {\\n    return res.status(503).json({ status: 'initializing', message: 'SQS clients are still initializing' });\\n  }\\n\\n  try {\\n    switch (requestType) {\\n      case RequestType.Image:\\n        await sqsClientGenerate.sendMessage(JSON.stringify(AiRequest));\\n        break;\\n      case RequestType.Text:\\n        await sqsClientText.sendMessage(JSON.stringify(AiRequest));\\n        break;\\n      case RequestType.Backsub:\\n        await sqsClientBacksub.sendMessage(JSON.stringify(AiRequest));\\n        break;\\n      default:\\n        return res.status(400).json({ error: 'Invalid request type' });\\n    }\\n\\n    return res.status(200).json({ message: 'Request sent to queue' });\\n  } catch (error) {\\n    console.error(error);\\n    return res.status(500).json({ error: 'Failed to send request to queue' });\\n  }\\n};\",\n",
       " 'How can I add an `<hr`> element after every `<h2>` element using CSS?',\n",
       " \"improve this function\\n\\nexport function modelNameToDslModelName(name: Base.ModelName): Base.DslModelName {\\n  const modelNameMapping: { [key in Base.ModelName]?: Base.DslModelName } = <unknown>{ AuditView: 'Audit' };\\n  return modelNameMapping[name] ?? (name.replace(/(View|Audit|AuditView)$/, '') as Base.DslModelName);\\n}\\n\",\n",
       " 'make window height = map height\\n(right now it gets it\\'s size = max-height)\\nuse only html\\n\\n<div class=\"window\" style=\"margin-top: 10px; display: inline-block; max-width: 63vw; max-height: 95vh; width: 100%;\">\\n    <div class=\"title-bar\">\\n        <div class=\"title-bar-text\">Coordinate Map</div>\\n        <div class=\"title-bar-controls\">\\n            <button aria-label=\"Minimize\"></button>\\n            <button aria-label=\"Maximize\"></button>\\n            <button aria-label=\"Close\"></button>\\n        </div>\\n    </div>\\n    <div class=\"window-body map-body\">\\n        <img src=\"/map?coordinates={{ .input_text }}\" alt=\"Coordinate Map\" style=\"width: 100%; height: 100%; object-fit: contain;\">\\n    </div>\\n</div>   ',\n",
       " 'Review the aspects of a good website for a gas station and create the modern HTML and CSS code for a website using an online framework with all elements, images, and icons. No need for local files, and place emphasis on good UX and design.',\n",
       " \"        const {data} = await supabase.from('topic').select('*')\\n            .range(0, 3)\\n            .eq('H', 1)\\n            .eq('Isdelete', 1)\\n            .or(`Name.ilike.%${searchKey}%, Des.ilike.%${searchKey}%`)\\n            .limit(10)\\n            .order('Id', {ascending: false})\\n            .returns<Tables<'topic'>[]>()\\n\\t\\t\\t\\n\\t\\t\\t\\n\\t\\t\\treturns<Tables<'topic'>[]>()  这里我要返回一个列表 如何改写代码?\",\n",
       " '\\nPS C:\\\\Users\\\\xiaowang798abc\\\\Documents\\\\HBuilderProjects\\\\my_project> npm install element-ui -save\\nnpm WARN deprecated core-js@2.6.12: core-js@<3.23.3 is no longer maintained and not recommended for usage due to \\nthe number of issues. Because of the V8 engine whims, feature detection in old core-js versions could cause a slo\\nwdown up to 100x even if nothing is polyfilled. Some versions have web compatibility issues. Please, upgrade your\\n dependencies to the actual version of core-js.\\n\\nadded 9 packages, and audited 971 packages in 21s\\n\\n112 packages are looking for funding\\n  run `npm fund` for details\\n\\n9 moderate severity vulnerabilities\\n\\nTo address issues that do not require attention, run:\\n  npm audit fix\\n\\n  npm audit fix --force\\n\\nSome issues need review, and may require choosing\\na different dependency.\\n\\nRun `npm audit` for details.\\nPS C:\\\\Users\\\\xiaowang798abc\\\\Documents\\\\HBuilderProjects\\\\my_project> npm install element-ui -save\\n\\nup to date, audited 971 packages in 3s\\n\\n112 packages are looking for funding  \\n  run `npm fund` for details\\n\\n9 moderate severity vulnerabilities\\n\\nTo address all issues possible (including breaking changes), run:\\n  npm audit fix --force\\n\\nSome issues need review, and may require choosing\\na different dependency.\\n\\nRun `npm audit` for details.怎么解决',\n",
       " 'when i do overflow: hidden;  onto html, body, .box isnt centered in the screen vertically anymore',\n",
       " \"Let's code a landingpage about AI SaaS\",\n",
       " 'I have these two types:\\nexport interface FBStoryAd extends GeneralAd {\\n  type: AdType.FBStory;\\n  title?: string;\\n  body?: string;\\n}\\n\\nexport interface InstagramPostAd extends GeneralAd {\\n  type: AdType.InstagramPost;\\n  title?: string;\\n}\\n\\nI want to write a validator for each where title and body should be validated if they exist. Validation means check if the length is not too long. Each type of post can have different values for max len. Nice, can we make one function that validates based on the type key?',\n",
       " 'Provide a sample of an HTTP request in JavaScript',\n",
       " '  const handleSubmitClick = useCallback(() => {\\n    setEstimatesProcess(\"submitting\");\\n    const message = displayMessage({\\n      type: \"info\",\\n      timeout: false,\\n      canClose: false,\\n      message: (\\n        <InfiniteProgressMessage>\\n          Пожалуйста, подождите. Идет сохранение результатов.\\n        </InfiniteProgressMessage>\\n      ),\\n    });\\n\\n    if (!selectedAnalysis) {\\n      const createPromises = [];\\n\\n      if (objectOfAnalysis === \"requests\") {\\n        createPromises.push(\\n          CritServices.addCritAnalysis({\\n            operatorOid: requestOperator.oid,\\n            requestOid: selectedObject.oid,\\n          })\\n        );\\n      } else {\\n        createPromises.push(\\n          CritServices.addCritAnalysis({\\n            operatorOid: selectedObject[\"userOid\"],\\n            callOid: selectedObject.oid,\\n          })\\n        );\\n      }\\n\\n      Promise.all(createPromises)\\n        .then((response) => {\\n          console.log(\"test//response\", response);\\n        })\\n        .catch(err => {\\n          showErrorMessage(\\n            err,\\n            \"Error during analysis create\",\\n            \"Возникла ошибка при создании анализа.\"\\n          );\\n        });\\n    } else {\\n      const updatePromises = [];\\n\\n      if (isNewCommonComment) {\\n        updatePromises.push(\\n          CritServices.addAnalysisComment({\\n            analysisOid: selectedAnalysis.oid,\\n            comment: newCommonComment,\\n          })\\n            .then(() => {\\n              displayMessage({\\n                type: \"success\",\\n                message: \"Общий комментарий успешно обновлен\",\\n              });\\n            })\\n            .catch(err => {\\n              showErrorMessage(\\n                err,\\n                \"Error during estimation update\",\\n                \"Возникла ошибка при обновлении общего комментария\"\\n              );\\n            })\\n        );\\n      }\\n\\n      if (isLocalEstimations) {\\n        updatePromises.push(\\n          CritServices.upsertEstimations(\\n            estimations as CritNamespace.NewEstimation[]\\n          )\\n            .then(() => {\\n              displayMessage({\\n                type: \"success\",\\n                message: \"Оценки успешно обновлены\",\\n              });\\n            })\\n            .catch(err => {\\n              showErrorMessage(\\n                err,\\n                \"Error during estimation update\",\\n                \"Возникла ошибка при выставлении оценок\"\\n              );\\n            })\\n        );\\n      }\\n\\n      Promise.all(updatePromises)\\n        .then(() => {\\n          if (objectOfAnalysis === \"requests\") {\\n            requestsForAnalysis.refetch();\\n          } else {\\n            callsForAnalysis.refetch();\\n          }\\n\\n          analyzes.refetch();\\n        })\\n        .catch(err => {\\n          console.error(\"Error during updates:\", err);\\n        })\\n        .finally(() => {\\n          setEstimatesProcess(\"none\");\\n          closeMessage(message);\\n        });\\n    }\\n  }, [\\n    closeMessage,\\n    newCommonComment,\\n    isNewCommonComment,\\n    selectedAnalysis,\\n    displayMessage,\\n    callsForAnalysis,\\n    requestsForAnalysis,\\n    selectedObject,\\n    objectOfAnalysis,\\n    analyzes,\\n  ]);\\n\\n  Исправить const createPromises = [] это не массив, там один промис\\n\\nОтвет на русском\\nОтвет с кодом',\n",
       " 'Write a React implementation of a pool of React elements that are created using:\\n\\nReact.createElement(\\n          \"div\",\\n          {\\n            key: ...,\\n            style: {\\n              width: \"100%\",\\n              height: 40,\\n              position: \"absolute\",\\n              left: 0,\\n              top: 123,\\n              visibility: \"visible\",\\n            },\\n          },\\n          \"Content\",\\n        );\\n\\nThen, I want to be able to change the top style as well as visibility.\\n\\nSince this is a pool, I must be able to add more elements as needed.',\n",
       " 'css get parent of div with dynamic class by inner text',\n",
       " 'I\\'d like my logo to be smaller on larger screens and ensure it doesn\\'t loose quality and its aspect ratio, just use tailwindcss for its styling:\\n<nav className=\"bg-customBGNav p-4 sticky top-0 z-10\">\\n      <div className=\"container mx-auto flex justify-center lg:justify-center\">\\n        {/* Logo for larger screens */}\\n        <div className=\"hidden lg:block lg:absolute lg:left-4 lg:w-20\">\\n          <Image\\n            src=\"/Logo-1.png\"\\n            alt=\"Logo\"\\n            width={200}\\n            height={300}\\n            className=\"h-8\"\\n          />\\n        </div>\\n        {/* Hamburger Icon */}\\n        <div className=\"lg:hidden\">\\n          <div className={`text-black ${isOpen ? \"absolute right-4\" : \"\"}`}>\\n            <Hamburger\\n              toggled={isOpen}\\n              toggle={setOpen}\\n              label=\"Toggle menu\" // Add ARIA label\\n              rounded // Make the icon bars rounded\\n              hideOutline // Hide the default browser focus style\\n            />\\n          </div>\\n        </div>\\n        <ul\\n          className={`flex flex-col lg:flex-row lg:gap-4 ${\\n            isOpen ? \"block\" : \"hidden\"\\n          } lg:flex`}\\n        >\\n          <div className=\"lg:mt-0\">\\n            <li>\\n              <ScrollLink\\n                to=\"home\"\\n                smooth={true}\\n                offset={getOffset(\"home\")}\\n                className={`flex items-center ${isActive(\\n                  \"home\"\\n                )} mr-4 cursor-pointer`}\\n              >\\n                <FaHome className=\"mr-2 text-xl\" />\\n                Inicio\\n              </ScrollLink>\\n            </li>\\n          </div>\\n          <div className=\"mt-4 lg:mt-0\">\\n            <li>\\n              <ScrollLink\\n                to=\"pastprojects\"\\n                smooth={true}\\n                offset={getOffset(\"pastprojects\")}\\n                className={`flex items-center ${isActive(\\n                  \"pastprojects\"\\n                )} mr-4 cursor-pointer`}\\n              >\\n                <FaBriefcase className=\"mr-2 text-xl\" />\\n                Proyectos\\n              </ScrollLink>\\n            </li>\\n          </div>\\n          <div className=\"mt-4 lg:mt-0\">\\n            <li>\\n              <ScrollLink\\n                to=\"contact\"\\n                smooth={true}\\n                offset={getOffset(\"contact\")}\\n                className={`flex items-center ${isActive(\\n                  \"contact\"\\n                )} mr-4 cursor-pointer`}\\n              >\\n                <FaEnvelope className=\"mr-2 text-xl\" />\\n                Contáctanos\\n              </ScrollLink>\\n            </li>\\n          </div>\\n          <div className=\"mt-4 lg:mt-0\">\\n            {/* <li>\\n              <Link\\n                href=\"/blog\"\\n                className={`${inactiveStyle} mr-4 cursor-pointer`}\\n              >\\n                <span className=\"flex\">\\n                  <FaBlog className=\"mr-2 text-xl\" />\\n                  Blog\\n                </span>\\n              </Link>\\n            </li> */}\\n          </div>\\n        </ul>\\n      </div>\\n    </nav>',\n",
       " 'Make me a very stylish and minimalist html website for a landing page of a server hosting. Include server plans - 1 GB, 2 GB and 4 GB RAM, describe features.\\n',\n",
       " 'make a landing page for shoping website only use html and css make it more attractive make it like mytra website']"
      ]
     },
     "execution_count": 14,
     "metadata": {},
     "output_type": "execute_result"
    }
   ],
   "source": [
    "sampled_prompts[0]"
   ]
  },
  {
   "cell_type": "code",
   "execution_count": 15,
   "metadata": {},
   "outputs": [],
   "source": [
    "import pickle \n",
    "\n",
    "with open(f\"{file_path}/example_prompts.pkl\", 'wb') as f:\n",
    "    pickle.dump(sampled_prompts, f)"
   ]
  },
  {
   "cell_type": "markdown",
   "metadata": {},
   "source": [
    "Reduce outliers."
   ]
  },
  {
   "cell_type": "code",
   "execution_count": 28,
   "metadata": {},
   "outputs": [
    {
     "name": "stderr",
     "output_type": "stream",
     "text": [
      "100%|██████████| 19/19 [00:11<00:00,  1.62it/s]\n"
     ]
    }
   ],
   "source": [
    "new_topics = topic_model.reduce_outliers(list(doc), topics , strategy=\"c-tf-idf\", threshold=0.1)\n",
    "new_topics = topic_model.reduce_outliers(list(doc), new_topics, strategy=\"distributions\")\n",
    "topic_model.update_topics(doc, topics=new_topics)"
   ]
  },
  {
   "cell_type": "code",
   "execution_count": 30,
   "metadata": {},
   "outputs": [
    {
     "data": {
      "text/html": [
       "<div>\n",
       "<style scoped>\n",
       "    .dataframe tbody tr th:only-of-type {\n",
       "        vertical-align: middle;\n",
       "    }\n",
       "\n",
       "    .dataframe tbody tr th {\n",
       "        vertical-align: top;\n",
       "    }\n",
       "\n",
       "    .dataframe thead th {\n",
       "        text-align: right;\n",
       "    }\n",
       "</style>\n",
       "<table border=\"1\" class=\"dataframe\">\n",
       "  <thead>\n",
       "    <tr style=\"text-align: right;\">\n",
       "      <th></th>\n",
       "      <th>Topic</th>\n",
       "      <th>Count</th>\n",
       "      <th>Name</th>\n",
       "      <th>Representation</th>\n",
       "      <th>Representative_Docs</th>\n",
       "    </tr>\n",
       "  </thead>\n",
       "  <tbody>\n",
       "    <tr>\n",
       "      <th>0</th>\n",
       "      <td>-1</td>\n",
       "      <td>187</td>\n",
       "      <td>-1_what_threadautoarchiveduration_autoarchived...</td>\n",
       "      <td>[what, threadautoarchiveduration, autoarchived...</td>\n",
       "      <td>[System: you are a math assistant\\nUser: Here ...</td>\n",
       "    </tr>\n",
       "    <tr>\n",
       "      <th>1</th>\n",
       "      <td>0</td>\n",
       "      <td>1036</td>\n",
       "      <td>0_const_div_id_class</td>\n",
       "      <td>[const, div, id, class, text, button, type, er...</td>\n",
       "      <td>[请你分析：import React, {useEffect, useState } fro...</td>\n",
       "    </tr>\n",
       "    <tr>\n",
       "      <th>2</th>\n",
       "      <td>1</td>\n",
       "      <td>780</td>\n",
       "      <td>1_her_patient_blood_spinal</td>\n",
       "      <td>[her, patient, blood, spinal, leg, right, marg...</td>\n",
       "      <td>[My girlfriend Lisa who is 22 had a cut in her...</td>\n",
       "    </tr>\n",
       "    <tr>\n",
       "      <th>3</th>\n",
       "      <td>2</td>\n",
       "      <td>877</td>\n",
       "      <td>2_earth_magnetic_moon_wave</td>\n",
       "      <td>[earth, magnetic, moon, wave, theory, charge, ...</td>\n",
       "      <td>[Act as an expert in space exploration history...</td>\n",
       "    </tr>\n",
       "    <tr>\n",
       "      <th>4</th>\n",
       "      <td>3</td>\n",
       "      <td>759</td>\n",
       "      <td>3_ubuntu_file_command_linux</td>\n",
       "      <td>[ubuntu, file, command, linux, echo, files, ba...</td>\n",
       "      <td>[how to groub list by service name and sort by...</td>\n",
       "    </tr>\n",
       "  </tbody>\n",
       "</table>\n",
       "</div>"
      ],
      "text/plain": [
       "   Topic  Count                                               Name  \\\n",
       "0     -1    187  -1_what_threadautoarchiveduration_autoarchived...   \n",
       "1      0   1036                               0_const_div_id_class   \n",
       "2      1    780                         1_her_patient_blood_spinal   \n",
       "3      2    877                         2_earth_magnetic_moon_wave   \n",
       "4      3    759                        3_ubuntu_file_command_linux   \n",
       "\n",
       "                                      Representation  \\\n",
       "0  [what, threadautoarchiveduration, autoarchived...   \n",
       "1  [const, div, id, class, text, button, type, er...   \n",
       "2  [her, patient, blood, spinal, leg, right, marg...   \n",
       "3  [earth, magnetic, moon, wave, theory, charge, ...   \n",
       "4  [ubuntu, file, command, linux, echo, files, ba...   \n",
       "\n",
       "                                 Representative_Docs  \n",
       "0  [System: you are a math assistant\\nUser: Here ...  \n",
       "1  [请你分析：import React, {useEffect, useState } fro...  \n",
       "2  [My girlfriend Lisa who is 22 had a cut in her...  \n",
       "3  [Act as an expert in space exploration history...  \n",
       "4  [how to groub list by service name and sort by...  "
      ]
     },
     "execution_count": 30,
     "metadata": {},
     "output_type": "execute_result"
    }
   ],
   "source": [
    "topic_model.get_topic_info().head()"
   ]
  },
  {
   "cell_type": "code",
   "execution_count": 31,
   "metadata": {},
   "outputs": [],
   "source": [
    "# save the model for future analysis\n",
    "topic_model.save(\n",
    "    path=f\"{file_path}/model\",\n",
    "    serialization=\"safetensors\",\n",
    "    save_ctfidf=True\n",
    ")"
   ]
  },
  {
   "cell_type": "markdown",
   "metadata": {},
   "source": [
    "### Summarize Category Names"
   ]
  },
  {
   "cell_type": "markdown",
   "metadata": {},
   "source": [
    "For each cluster, we used ChatGPT-4o to assign a category name based on the selected example prompts. "
   ]
  },
  {
   "cell_type": "code",
   "execution_count": 33,
   "metadata": {},
   "outputs": [],
   "source": [
    "def summarize_topic(prompts):\n",
    "    input_text = \"Based on the sampled prompts below, extract a short but highly descriptive \\\n",
    "                  topic label of at most 5 words and a short description of this category in \\\n",
    "                  two sentences:\\n\\n\" + \"\\n\\n\".join(prompts)\n",
    "    client = openai.OpenAI()\n",
    "\n",
    "    response = client.chat.completions.create(\n",
    "        model=\"gpt-4o\",\n",
    "        messages=[\n",
    "            {\"role\": \"system\", \"content\": \"You help summarize the category of the given prompts. \\\n",
    "              Make sure it is in the following format: The topic of doc is: '...'. Description: '...'.\"},\n",
    "            {\"role\": \"user\", \"content\": input_text}\n",
    "        ],\n",
    "        temperature=0\n",
    "    )\n",
    "\n",
    "    return response.choices[0].message.content\n",
    "\n",
    "summaries = {}\n",
    "for topic_id, prompts in sampled_prompts.items():\n",
    "    summary = summarize_topic(prompts)\n",
    "    summaries[topic_id] = summary"
   ]
  },
  {
   "cell_type": "code",
   "execution_count": 35,
   "metadata": {},
   "outputs": [],
   "source": [
    "def extract_category(summary):\n",
    "    try:\n",
    "        return re.search(r\"is: '(.*?)'\", summary).group(1)\n",
    "    except AttributeError:\n",
    "        try:\n",
    "            return re.search(r\"'(.*?)'. \", summary).group(1)\n",
    "        except AttributeError:\n",
    "            print(f\"Regex failed for: {list(summaries.keys())[list(summaries.values()).index(summary)]}\")\n",
    "            return None\n",
    "def extract_description(summary):\n",
    "    try:\n",
    "        return re.search(r\"Description: '(.*?)'\", summary).group(1)\n",
    "    except AttributeError:\n",
    "        try:\n",
    "            return re.search(r\"Description: (.*?)\", summary).group(1)\n",
    "        except AttributeError:\n",
    "            print(f\"Regex failed for: {summary}\")\n",
    "            return None"
   ]
  },
  {
   "cell_type": "code",
   "execution_count": 41,
   "metadata": {},
   "outputs": [],
   "source": [
    "summaries[-1] = \"The topic of doc is 'Miscellaneous Categories'. Description: 'They are outliers in the topic modeling process'.\"\n",
    "summaries_df = pd.DataFrame(list(summaries.items()), columns=['Topic', 'Summary'])\n",
    "summaries_df['Category'] = summaries_df['Summary'].apply(extract_category)\n",
    "summaries_df['Description'] = summaries_df['Summary'].apply(extract_description)\n",
    "\n",
    "topic_info_modified = topic_info[['Topic', 'Count']]\n",
    "summaries_df = summaries_df.merge(topic_info_modified, on='Topic')[['Topic', 'Category', 'Description', 'Count']]\n",
    "summaries_df['Percentage'] = summaries_df['Count'] / summaries_df['Count'].sum()\n",
    "summaries_df['Example Prompt'] = summaries_df.apply(lambda x: sampled_prompts[x.Topic], axis=1)\n",
    "summaries_df['Example Prompt'] = summaries_df['Example Prompt'].str.join('|||')"
   ]
  },
  {
   "cell_type": "code",
   "execution_count": 44,
   "metadata": {},
   "outputs": [
    {
     "data": {
      "text/html": [
       "<div>\n",
       "<style scoped>\n",
       "    .dataframe tbody tr th:only-of-type {\n",
       "        vertical-align: middle;\n",
       "    }\n",
       "\n",
       "    .dataframe tbody tr th {\n",
       "        vertical-align: top;\n",
       "    }\n",
       "\n",
       "    .dataframe thead th {\n",
       "        text-align: right;\n",
       "    }\n",
       "</style>\n",
       "<table border=\"1\" class=\"dataframe\">\n",
       "  <thead>\n",
       "    <tr style=\"text-align: right;\">\n",
       "      <th></th>\n",
       "      <th>Topic</th>\n",
       "      <th>Category</th>\n",
       "      <th>Description</th>\n",
       "      <th>Count</th>\n",
       "      <th>Percentage</th>\n",
       "      <th>Example Prompt</th>\n",
       "    </tr>\n",
       "  </thead>\n",
       "  <tbody>\n",
       "    <tr>\n",
       "      <th>0</th>\n",
       "      <td>0</td>\n",
       "      <td>Web Development and Programming</td>\n",
       "      <td>This document contains various prompts related...</td>\n",
       "      <td>758</td>\n",
       "      <td>0.015601</td>\n",
       "      <td>can you write a nodejs typescript class that i...</td>\n",
       "    </tr>\n",
       "    <tr>\n",
       "      <th>1</th>\n",
       "      <td>1</td>\n",
       "      <td>Medical Diagnosis and Treatment Queries</td>\n",
       "      <td>This document contains a series of medical-rel...</td>\n",
       "      <td>654</td>\n",
       "      <td>0.013461</td>\n",
       "      <td>My girlfriend Lisa who is 22 had a cut in her ...</td>\n",
       "    </tr>\n",
       "    <tr>\n",
       "      <th>2</th>\n",
       "      <td>2</td>\n",
       "      <td>Physics and Astronomy Concepts</td>\n",
       "      <td>This category encompasses a range of prompts r...</td>\n",
       "      <td>597</td>\n",
       "      <td>0.012287</td>\n",
       "      <td>Is liquid core in earth stop rotating|||write ...</td>\n",
       "    </tr>\n",
       "    <tr>\n",
       "      <th>3</th>\n",
       "      <td>3</td>\n",
       "      <td>Linux and Unix Troubleshooting</td>\n",
       "      <td>This category encompasses various troubleshoot...</td>\n",
       "      <td>525</td>\n",
       "      <td>0.010806</td>\n",
       "      <td>how to mount a partition in ubuntu 22.04 using...</td>\n",
       "    </tr>\n",
       "    <tr>\n",
       "      <th>4</th>\n",
       "      <td>4</td>\n",
       "      <td>Counting Letters in Words</td>\n",
       "      <td>This category involves prompts that ask for th...</td>\n",
       "      <td>486</td>\n",
       "      <td>0.010003</td>\n",
       "      <td>How many r are there in strawberry|||how many ...</td>\n",
       "    </tr>\n",
       "  </tbody>\n",
       "</table>\n",
       "</div>"
      ],
      "text/plain": [
       "   Topic                                 Category  \\\n",
       "0      0          Web Development and Programming   \n",
       "1      1  Medical Diagnosis and Treatment Queries   \n",
       "2      2           Physics and Astronomy Concepts   \n",
       "3      3           Linux and Unix Troubleshooting   \n",
       "4      4                Counting Letters in Words   \n",
       "\n",
       "                                         Description  Count  Percentage  \\\n",
       "0  This document contains various prompts related...    758    0.015601   \n",
       "1  This document contains a series of medical-rel...    654    0.013461   \n",
       "2  This category encompasses a range of prompts r...    597    0.012287   \n",
       "3  This category encompasses various troubleshoot...    525    0.010806   \n",
       "4  This category involves prompts that ask for th...    486    0.010003   \n",
       "\n",
       "                                      Example Prompt  \n",
       "0  can you write a nodejs typescript class that i...  \n",
       "1  My girlfriend Lisa who is 22 had a cut in her ...  \n",
       "2  Is liquid core in earth stop rotating|||write ...  \n",
       "3  how to mount a partition in ubuntu 22.04 using...  \n",
       "4  How many r are there in strawberry|||how many ...  "
      ]
     },
     "execution_count": 44,
     "metadata": {},
     "output_type": "execute_result"
    }
   ],
   "source": [
    "summaries_df.head()"
   ]
  },
  {
   "cell_type": "code",
   "execution_count": 45,
   "metadata": {},
   "outputs": [],
   "source": [
    "# save if needed\n",
    "summaries_df.to_csv(f\"{file_path}/narrow_categories.csv\", index=False)"
   ]
  },
  {
   "cell_type": "markdown",
   "metadata": {},
   "source": [
    "## Broad Category\n",
    "\n",
    "We performed topic clustering again on the category names of these 193 specific categories, summarizing them into 12 broad categories. The summarization process followed an almost identical approach as before."
   ]
  },
  {
   "cell_type": "code",
   "execution_count": 47,
   "metadata": {},
   "outputs": [
    {
     "name": "stderr",
     "output_type": "stream",
     "text": [
      "2025-02-06 18:56:26,299 - BERTopic - Dimensionality - Fitting the dimensionality reduction algorithm\n",
      "2025-02-06 18:56:26,801 - BERTopic - Dimensionality - Completed ✓\n",
      "2025-02-06 18:56:26,801 - BERTopic - Cluster - Start clustering the reduced embeddings\n",
      "2025-02-06 18:56:26,809 - BERTopic - Cluster - Completed ✓\n",
      "2025-02-06 18:56:26,812 - BERTopic - Representation - Extracting topics from clusters using representation models.\n",
      "2025-02-06 18:56:26,844 - BERTopic - Representation - Completed ✓\n",
      "100%|██████████| 1/1 [00:00<00:00, 546.49it/s]\n",
      "2025-02-06 18:56:26,886 - BERTopic - WARNING: Using a custom list of topic assignments may lead to errors if topic reduction techniques are used afterwards. Make sure that manually assigning topics is the last step in the pipeline.Note that topic embeddings will also be created through weightedc-TF-IDF embeddings instead of centroid embeddings.\n"
     ]
    }
   ],
   "source": [
    "from bertopic.backend import OpenAIBackend\n",
    "\n",
    "broad_doc = list(summaries_df['Category'] + ': ' + summaries_df['Description'])\n",
    "broad_doc.pop() # not considering outliers\n",
    "\n",
    "# Create embeddings\n",
    "client = openai.OpenAI()\n",
    "embedding_model = OpenAIBackend(client, \"text-embedding-3-large\")\n",
    "embeddings = embedding_model.embed(broad_doc)\n",
    "\n",
    "# BERTopic\n",
    "umap_model = UMAP(n_neighbors=13, n_components=5, min_dist=0.0, metric='cosine', random_state=42)\n",
    "hdbscan_model = HDBSCAN(min_cluster_size=5, metric='euclidean', cluster_selection_method='eom', prediction_data=True)\n",
    "vectorizer_model = CountVectorizer(stop_words=\"english\", min_df=2, ngram_range=(1, 3))\n",
    "topic_model= BERTopic(\n",
    "        embedding_model=embedding_model,\n",
    "        umap_model=umap_model,\n",
    "        hdbscan_model=hdbscan_model,\n",
    "        vectorizer_model=vectorizer_model,\n",
    "\n",
    "        top_n_words=3,\n",
    "        verbose=True\n",
    ")\n",
    "\n",
    "topics, probs = topic_model.fit_transform(broad_doc, embeddings=embeddings)\n",
    "\n",
    "# Reduce all outliers\n",
    "new_topics = topic_model.reduce_outliers(broad_doc, topics , strategy=\"c-tf-idf\", threshold=0.1)\n",
    "new_topics = topic_model.reduce_outliers(broad_doc, new_topics, strategy=\"distributions\")\n",
    "topic_model.update_topics(broad_doc, topics=new_topics)"
   ]
  },
  {
   "cell_type": "code",
   "execution_count": 53,
   "metadata": {},
   "outputs": [
    {
     "data": {
      "text/plain": [
       "10"
      ]
     },
     "execution_count": 53,
     "metadata": {},
     "output_type": "execute_result"
    }
   ],
   "source": [
    "len(topic_model.get_topic_info())"
   ]
  },
  {
   "cell_type": "code",
   "execution_count": 52,
   "metadata": {},
   "outputs": [
    {
     "data": {
      "text/html": [
       "<div>\n",
       "<style scoped>\n",
       "    .dataframe tbody tr th:only-of-type {\n",
       "        vertical-align: middle;\n",
       "    }\n",
       "\n",
       "    .dataframe tbody tr th {\n",
       "        vertical-align: top;\n",
       "    }\n",
       "\n",
       "    .dataframe thead th {\n",
       "        text-align: right;\n",
       "    }\n",
       "</style>\n",
       "<table border=\"1\" class=\"dataframe\">\n",
       "  <thead>\n",
       "    <tr style=\"text-align: right;\">\n",
       "      <th></th>\n",
       "      <th>Topic</th>\n",
       "      <th>Count</th>\n",
       "      <th>Name</th>\n",
       "      <th>Representation</th>\n",
       "      <th>Representative_Docs</th>\n",
       "    </tr>\n",
       "  </thead>\n",
       "  <tbody>\n",
       "    <tr>\n",
       "      <th>0</th>\n",
       "      <td>0</td>\n",
       "      <td>60</td>\n",
       "      <td>0_the_puzzles_and_to</td>\n",
       "      <td>[the, puzzles, and, to, solving, of, involves,...</td>\n",
       "      <td>[Calculus Problems and Solutions: This categor...</td>\n",
       "    </tr>\n",
       "    <tr>\n",
       "      <th>1</th>\n",
       "      <td>1</td>\n",
       "      <td>36</td>\n",
       "      <td>1_the_of_and_prompts</td>\n",
       "      <td>[the, of, and, prompts, explore, historical, t...</td>\n",
       "      <td>[Taiwan and Hong Kong Geopolitical Issues: The...</td>\n",
       "    </tr>\n",
       "    <tr>\n",
       "      <th>2</th>\n",
       "      <td>2</td>\n",
       "      <td>30</td>\n",
       "      <td>2_and_document_as_contains</td>\n",
       "      <td>[and, document, as, contains, code, like, prog...</td>\n",
       "      <td>[Django and Database Models: The document cont...</td>\n",
       "    </tr>\n",
       "    <tr>\n",
       "      <th>3</th>\n",
       "      <td>3</td>\n",
       "      <td>22</td>\n",
       "      <td>3_and_the_business_strategies</td>\n",
       "      <td>[and, the, business, strategies, of, for, on, ...</td>\n",
       "      <td>[Business Strategy and Sector Analysis: The pr...</td>\n",
       "    </tr>\n",
       "    <tr>\n",
       "      <th>4</th>\n",
       "      <td>4</td>\n",
       "      <td>19</td>\n",
       "      <td>4_python_and_encompasses_programming</td>\n",
       "      <td>[python, and, encompasses, programming, catego...</td>\n",
       "      <td>[Python File Manipulation Scripts: This catego...</td>\n",
       "    </tr>\n",
       "  </tbody>\n",
       "</table>\n",
       "</div>"
      ],
      "text/plain": [
       "   Topic  Count                                  Name  \\\n",
       "0      0     60                  0_the_puzzles_and_to   \n",
       "1      1     36                  1_the_of_and_prompts   \n",
       "2      2     30            2_and_document_as_contains   \n",
       "3      3     22         3_and_the_business_strategies   \n",
       "4      4     19  4_python_and_encompasses_programming   \n",
       "\n",
       "                                      Representation  \\\n",
       "0  [the, puzzles, and, to, solving, of, involves,...   \n",
       "1  [the, of, and, prompts, explore, historical, t...   \n",
       "2  [and, document, as, contains, code, like, prog...   \n",
       "3  [and, the, business, strategies, of, for, on, ...   \n",
       "4  [python, and, encompasses, programming, catego...   \n",
       "\n",
       "                                 Representative_Docs  \n",
       "0  [Calculus Problems and Solutions: This categor...  \n",
       "1  [Taiwan and Hong Kong Geopolitical Issues: The...  \n",
       "2  [Django and Database Models: The document cont...  \n",
       "3  [Business Strategy and Sector Analysis: The pr...  \n",
       "4  [Python File Manipulation Scripts: This catego...  "
      ]
     },
     "execution_count": 52,
     "metadata": {},
     "output_type": "execute_result"
    }
   ],
   "source": [
    "topic_model.get_topic_info().head()"
   ]
  },
  {
   "cell_type": "code",
   "execution_count": null,
   "metadata": {},
   "outputs": [],
   "source": [
    "# Summarize category names\n",
    "def summarize_topic(prompts):\n",
    "    input_text = \"Based on the topic names, extract a short but highly descriptive and concrete \\\n",
    "                  label of at most 2 words:\\n\\n\" + \"\\n\\n\".join(prompts)\n",
    "    client = openai.OpenAI()\n",
    "\n",
    "    response = client.chat.completions.create(\n",
    "        model=\"gpt-4o\",\n",
    "        messages=[\n",
    "            {\"role\": \"system\", \"content\": \"You help summarize the topic of the given fine grained \\\n",
    "             categories in the following format: The topic is '...'.\"},\n",
    "            {\"role\": \"user\", \"content\": input_text}\n",
    "        ],\n",
    "        temperature=1\n",
    "    )\n",
    "\n",
    "    return response.choices[0].message.content\n",
    "\n",
    "broad_topic_info = topic_model.get_topic_info()\n",
    "broad_doc_info = topic_model.get_document_info(broad_doc)\n",
    "summaries = {}\n",
    "\n",
    "for topic_id in broad_topic_info['Topic']:\n",
    "    docs = list(broad_doc_info[broad_doc_info['Topic'] == topic_id]['Document'])\n",
    "    names = [re.search(r\"(.*?): \", x).group(1) for x in docs]\n",
    "    cat = ', '.join(names)\n",
    "    summary = summarize_topic(cat)\n",
    "    summaries[topic_id] = summary"
   ]
  },
  {
   "cell_type": "code",
   "execution_count": 50,
   "metadata": {},
   "outputs": [],
   "source": [
    "# Combine results \n",
    "broad_summaries_df = pd.DataFrame(list(summaries.items()), columns=['Topic', 'Summary'])\n",
    "broad_summaries_df['Category'] = broad_summaries_df['Summary'].apply(lambda x: re.search(r\"'(.*?)'\", x).group(1))\n",
    "topic_info_modified = broad_topic_info[['Topic', 'Count']]\n",
    "broad_summaries_df = broad_summaries_df.merge(topic_info_modified, on='Topic')[['Topic', 'Category', 'Count']]\n",
    "broad_summaries_df['Percentage'] = broad_summaries_df['Count'] / broad_summaries_df['Count'].sum()\n",
    "broad_summaries_df = broad_summaries_df.fillna('Other')"
   ]
  },
  {
   "cell_type": "code",
   "execution_count": 51,
   "metadata": {},
   "outputs": [
    {
     "data": {
      "text/html": [
       "<div>\n",
       "<style scoped>\n",
       "    .dataframe tbody tr th:only-of-type {\n",
       "        vertical-align: middle;\n",
       "    }\n",
       "\n",
       "    .dataframe tbody tr th {\n",
       "        vertical-align: top;\n",
       "    }\n",
       "\n",
       "    .dataframe thead th {\n",
       "        text-align: right;\n",
       "    }\n",
       "</style>\n",
       "<table border=\"1\" class=\"dataframe\">\n",
       "  <thead>\n",
       "    <tr style=\"text-align: right;\">\n",
       "      <th></th>\n",
       "      <th>Topic</th>\n",
       "      <th>Category</th>\n",
       "      <th>Count</th>\n",
       "      <th>Percentage</th>\n",
       "    </tr>\n",
       "  </thead>\n",
       "  <tbody>\n",
       "    <tr>\n",
       "      <th>0</th>\n",
       "      <td>0</td>\n",
       "      <td>Logic Puzzles</td>\n",
       "      <td>60</td>\n",
       "      <td>0.224719</td>\n",
       "    </tr>\n",
       "    <tr>\n",
       "      <th>1</th>\n",
       "      <td>1</td>\n",
       "      <td>Diverse Topics</td>\n",
       "      <td>36</td>\n",
       "      <td>0.134831</td>\n",
       "    </tr>\n",
       "    <tr>\n",
       "      <th>2</th>\n",
       "      <td>2</td>\n",
       "      <td>Technical Programming</td>\n",
       "      <td>30</td>\n",
       "      <td>0.112360</td>\n",
       "    </tr>\n",
       "    <tr>\n",
       "      <th>3</th>\n",
       "      <td>3</td>\n",
       "      <td>Business Strategies</td>\n",
       "      <td>22</td>\n",
       "      <td>0.082397</td>\n",
       "    </tr>\n",
       "    <tr>\n",
       "      <th>4</th>\n",
       "      <td>4</td>\n",
       "      <td>Programming Techniques</td>\n",
       "      <td>19</td>\n",
       "      <td>0.071161</td>\n",
       "    </tr>\n",
       "  </tbody>\n",
       "</table>\n",
       "</div>"
      ],
      "text/plain": [
       "   Topic                Category  Count  Percentage\n",
       "0      0           Logic Puzzles     60    0.224719\n",
       "1      1          Diverse Topics     36    0.134831\n",
       "2      2   Technical Programming     30    0.112360\n",
       "3      3     Business Strategies     22    0.082397\n",
       "4      4  Programming Techniques     19    0.071161"
      ]
     },
     "execution_count": 51,
     "metadata": {},
     "output_type": "execute_result"
    }
   ],
   "source": [
    "broad_summaries_df.head()"
   ]
  },
  {
   "cell_type": "code",
   "execution_count": null,
   "metadata": {},
   "outputs": [],
   "source": [
    "# save if needed\n",
    "broad_summaries_df.to_csv(f\"{file_path}/broad_categories.csv\", index=False)"
   ]
  },
  {
   "cell_type": "markdown",
   "metadata": {},
   "source": [
    "## Data Processing: combine broad and narrow topics\n",
    "\n",
    "The clustering results are stored in JSON format to facilitate future visualizations."
   ]
  },
  {
   "cell_type": "markdown",
   "metadata": {},
   "source": [
    "### Combine broad, narrow category, and examples"
   ]
  },
  {
   "cell_type": "code",
   "execution_count": 54,
   "metadata": {},
   "outputs": [],
   "source": [
    "# Merge categories\n",
    "merged = broad_doc_info[['Topic']].merge(summaries_df, left_index=True, right_index=True)\n",
    "merged = merged.merge(broad_summaries_df, left_on='Topic_x', right_on='Topic')\n",
    "merged = merged[['Topic_x', 'Category_y', 'Topic_y', 'Category_x', 'Count_x', 'Percentage_x', 'Example Prompt']]\n",
    "merged = merged.rename(columns={\n",
    "    'Topic_x': 'broad_category_id', \n",
    "    'Category_y': 'broad_category', \n",
    "    'Topic_y': 'narrower_category_id',\n",
    "    'Category_x': 'narrower_category',\n",
    "    'Count_x': 'prompt_count',\n",
    "    'Percentage_x': 'prompt_percentage',\n",
    "    'Example Prompt': 'example_prompt'})"
   ]
  },
  {
   "cell_type": "code",
   "execution_count": 55,
   "metadata": {},
   "outputs": [
    {
     "data": {
      "text/html": [
       "<div>\n",
       "<style scoped>\n",
       "    .dataframe tbody tr th:only-of-type {\n",
       "        vertical-align: middle;\n",
       "    }\n",
       "\n",
       "    .dataframe tbody tr th {\n",
       "        vertical-align: top;\n",
       "    }\n",
       "\n",
       "    .dataframe thead th {\n",
       "        text-align: right;\n",
       "    }\n",
       "</style>\n",
       "<table border=\"1\" class=\"dataframe\">\n",
       "  <thead>\n",
       "    <tr style=\"text-align: right;\">\n",
       "      <th></th>\n",
       "      <th>broad_category_id</th>\n",
       "      <th>broad_category</th>\n",
       "      <th>narrower_category_id</th>\n",
       "      <th>narrower_category</th>\n",
       "      <th>prompt_count</th>\n",
       "      <th>prompt_percentage</th>\n",
       "      <th>example_prompt</th>\n",
       "    </tr>\n",
       "  </thead>\n",
       "  <tbody>\n",
       "    <tr>\n",
       "      <th>0</th>\n",
       "      <td>2</td>\n",
       "      <td>Technical Programming</td>\n",
       "      <td>0</td>\n",
       "      <td>Web Development and Programming</td>\n",
       "      <td>758</td>\n",
       "      <td>0.015601</td>\n",
       "      <td>can you write a nodejs typescript class that i...</td>\n",
       "    </tr>\n",
       "    <tr>\n",
       "      <th>1</th>\n",
       "      <td>5</td>\n",
       "      <td>Creative Technologies</td>\n",
       "      <td>1</td>\n",
       "      <td>Medical Diagnosis and Treatment Queries</td>\n",
       "      <td>654</td>\n",
       "      <td>0.013461</td>\n",
       "      <td>My girlfriend Lisa who is 22 had a cut in her ...</td>\n",
       "    </tr>\n",
       "    <tr>\n",
       "      <th>2</th>\n",
       "      <td>1</td>\n",
       "      <td>Diverse Topics</td>\n",
       "      <td>2</td>\n",
       "      <td>Physics and Astronomy Concepts</td>\n",
       "      <td>597</td>\n",
       "      <td>0.012287</td>\n",
       "      <td>Is liquid core in earth stop rotating|||write ...</td>\n",
       "    </tr>\n",
       "    <tr>\n",
       "      <th>3</th>\n",
       "      <td>4</td>\n",
       "      <td>Programming Techniques</td>\n",
       "      <td>3</td>\n",
       "      <td>Linux and Unix Troubleshooting</td>\n",
       "      <td>525</td>\n",
       "      <td>0.010806</td>\n",
       "      <td>how to mount a partition in ubuntu 22.04 using...</td>\n",
       "    </tr>\n",
       "    <tr>\n",
       "      <th>4</th>\n",
       "      <td>0</td>\n",
       "      <td>Logic Puzzles</td>\n",
       "      <td>4</td>\n",
       "      <td>Counting Letters in Words</td>\n",
       "      <td>486</td>\n",
       "      <td>0.010003</td>\n",
       "      <td>How many r are there in strawberry|||how many ...</td>\n",
       "    </tr>\n",
       "  </tbody>\n",
       "</table>\n",
       "</div>"
      ],
      "text/plain": [
       "   broad_category_id          broad_category  narrower_category_id  \\\n",
       "0                  2   Technical Programming                     0   \n",
       "1                  5   Creative Technologies                     1   \n",
       "2                  1          Diverse Topics                     2   \n",
       "3                  4  Programming Techniques                     3   \n",
       "4                  0           Logic Puzzles                     4   \n",
       "\n",
       "                         narrower_category  prompt_count  prompt_percentage  \\\n",
       "0          Web Development and Programming           758           0.015601   \n",
       "1  Medical Diagnosis and Treatment Queries           654           0.013461   \n",
       "2           Physics and Astronomy Concepts           597           0.012287   \n",
       "3           Linux and Unix Troubleshooting           525           0.010806   \n",
       "4                Counting Letters in Words           486           0.010003   \n",
       "\n",
       "                                      example_prompt  \n",
       "0  can you write a nodejs typescript class that i...  \n",
       "1  My girlfriend Lisa who is 22 had a cut in her ...  \n",
       "2  Is liquid core in earth stop rotating|||write ...  \n",
       "3  how to mount a partition in ubuntu 22.04 using...  \n",
       "4  How many r are there in strawberry|||how many ...  "
      ]
     },
     "execution_count": 55,
     "metadata": {},
     "output_type": "execute_result"
    }
   ],
   "source": [
    "merged.head()"
   ]
  },
  {
   "cell_type": "code",
   "execution_count": 76,
   "metadata": {},
   "outputs": [],
   "source": [
    "# save if needed\n",
    "merged.to_csv(f\"{file_path}/category_summary.csv\", index=False)"
   ]
  },
  {
   "cell_type": "markdown",
   "metadata": {},
   "source": [
    "For each conversation in the original dataset, assign the corresponding broad and narrow category."
   ]
  },
  {
   "cell_type": "code",
   "execution_count": 77,
   "metadata": {},
   "outputs": [
    {
     "name": "stderr",
     "output_type": "stream",
     "text": [
      "2025-02-06 19:05:50,404 - BERTopic - WARNING: You are loading a BERTopic model without explicitly defining an embedding model. If you want to also load in an embedding model, make sure to use `BERTopic.load(my_model, embedding_model=my_embedding_model)`.\n"
     ]
    }
   ],
   "source": [
    "topic_model = BERTopic.load(f\"{file_path}/model\")\n",
    "doc_info = topic_model.get_document_info(doc)\n",
    "merged = pd.read_csv(f\"{file_path}/category_summary.csv\")"
   ]
  },
  {
   "cell_type": "markdown",
   "metadata": {},
   "source": [
    "### Label conversations with broad, narrow category"
   ]
  },
  {
   "cell_type": "code",
   "execution_count": 86,
   "metadata": {},
   "outputs": [],
   "source": [
    "english_df.reset_index(inplace=True)\n",
    "llm_df = english_df.merge(doc_info[['Topic']], left_index=True, right_index=True)\n",
    "llm_df = llm_df.merge(merged, how='left', left_on='Topic', right_on='narrower_category_id')\n",
    "llm_df = llm_df[['question_id', 'broad_category_id', 'broad_category', \n",
    "    'narrower_category_id', 'narrower_category', 'model_a', 'model_b', 'winner']]"
   ]
  },
  {
   "cell_type": "code",
   "execution_count": 87,
   "metadata": {},
   "outputs": [
    {
     "data": {
      "text/plain": [
       "(48586, 8)"
      ]
     },
     "execution_count": 87,
     "metadata": {},
     "output_type": "execute_result"
    }
   ],
   "source": [
    "llm_df.shape"
   ]
  },
  {
   "cell_type": "code",
   "execution_count": 88,
   "metadata": {},
   "outputs": [
    {
     "data": {
      "text/html": [
       "<div>\n",
       "<style scoped>\n",
       "    .dataframe tbody tr th:only-of-type {\n",
       "        vertical-align: middle;\n",
       "    }\n",
       "\n",
       "    .dataframe tbody tr th {\n",
       "        vertical-align: top;\n",
       "    }\n",
       "\n",
       "    .dataframe thead th {\n",
       "        text-align: right;\n",
       "    }\n",
       "</style>\n",
       "<table border=\"1\" class=\"dataframe\">\n",
       "  <thead>\n",
       "    <tr style=\"text-align: right;\">\n",
       "      <th></th>\n",
       "      <th>question_id</th>\n",
       "      <th>broad_category_id</th>\n",
       "      <th>broad_category</th>\n",
       "      <th>narrower_category_id</th>\n",
       "      <th>narrower_category</th>\n",
       "      <th>model_a</th>\n",
       "      <th>model_b</th>\n",
       "      <th>winner</th>\n",
       "    </tr>\n",
       "  </thead>\n",
       "  <tbody>\n",
       "    <tr>\n",
       "      <th>0</th>\n",
       "      <td>76ce56f8ba474768bc66128c7993ccb8</td>\n",
       "      <td>2.0</td>\n",
       "      <td>Technical Programming</td>\n",
       "      <td>0.0</td>\n",
       "      <td>Web Development and Programming</td>\n",
       "      <td>mistral-large-2407</td>\n",
       "      <td>athene-70b-0725</td>\n",
       "      <td>model_b</td>\n",
       "    </tr>\n",
       "    <tr>\n",
       "      <th>1</th>\n",
       "      <td>e8fe7c9f75ab4e528367cc7de625c475</td>\n",
       "      <td>7.0</td>\n",
       "      <td>Interest Categories</td>\n",
       "      <td>122.0</td>\n",
       "      <td>Knowledge Cutoff Date</td>\n",
       "      <td>gemma-2-9b-it</td>\n",
       "      <td>qwen2-72b-instruct</td>\n",
       "      <td>model_b</td>\n",
       "    </tr>\n",
       "    <tr>\n",
       "      <th>2</th>\n",
       "      <td>772d53e5c51c487e8a293eadcd9d4855</td>\n",
       "      <td>0.0</td>\n",
       "      <td>Logic Puzzles</td>\n",
       "      <td>7.0</td>\n",
       "      <td>Comparing Decimal Numbers</td>\n",
       "      <td>mixtral-8x22b-instruct-v0.1</td>\n",
       "      <td>llama-3.1-70b-instruct</td>\n",
       "      <td>tie (bothbad)</td>\n",
       "    </tr>\n",
       "    <tr>\n",
       "      <th>3</th>\n",
       "      <td>6ccd7a51825249d5881ee501e06bb9ab</td>\n",
       "      <td>0.0</td>\n",
       "      <td>Logic Puzzles</td>\n",
       "      <td>80.0</td>\n",
       "      <td>Algebraic Equation Solving</td>\n",
       "      <td>mixtral-8x22b-instruct-v0.1</td>\n",
       "      <td>gemma-2-2b-it</td>\n",
       "      <td>model_a</td>\n",
       "    </tr>\n",
       "    <tr>\n",
       "      <th>4</th>\n",
       "      <td>463aa4efacf34f27b6a5c3f1f7417e86</td>\n",
       "      <td>3.0</td>\n",
       "      <td>Business Strategies</td>\n",
       "      <td>16.0</td>\n",
       "      <td>Business and Marketing Strategies</td>\n",
       "      <td>gemini-1.5-pro-api-0514</td>\n",
       "      <td>reka-flash-preview-20240611</td>\n",
       "      <td>model_a</td>\n",
       "    </tr>\n",
       "  </tbody>\n",
       "</table>\n",
       "</div>"
      ],
      "text/plain": [
       "                        question_id  broad_category_id         broad_category  \\\n",
       "0  76ce56f8ba474768bc66128c7993ccb8                2.0  Technical Programming   \n",
       "1  e8fe7c9f75ab4e528367cc7de625c475                7.0    Interest Categories   \n",
       "2  772d53e5c51c487e8a293eadcd9d4855                0.0          Logic Puzzles   \n",
       "3  6ccd7a51825249d5881ee501e06bb9ab                0.0          Logic Puzzles   \n",
       "4  463aa4efacf34f27b6a5c3f1f7417e86                3.0    Business Strategies   \n",
       "\n",
       "   narrower_category_id                  narrower_category  \\\n",
       "0                   0.0    Web Development and Programming   \n",
       "1                 122.0              Knowledge Cutoff Date   \n",
       "2                   7.0          Comparing Decimal Numbers   \n",
       "3                  80.0         Algebraic Equation Solving   \n",
       "4                  16.0  Business and Marketing Strategies   \n",
       "\n",
       "                       model_a                      model_b         winner  \n",
       "0           mistral-large-2407              athene-70b-0725        model_b  \n",
       "1                gemma-2-9b-it           qwen2-72b-instruct        model_b  \n",
       "2  mixtral-8x22b-instruct-v0.1       llama-3.1-70b-instruct  tie (bothbad)  \n",
       "3  mixtral-8x22b-instruct-v0.1                gemma-2-2b-it        model_a  \n",
       "4      gemini-1.5-pro-api-0514  reka-flash-preview-20240611        model_a  "
      ]
     },
     "execution_count": 88,
     "metadata": {},
     "output_type": "execute_result"
    }
   ],
   "source": [
    "llm_df.head()"
   ]
  },
  {
   "cell_type": "code",
   "execution_count": 89,
   "metadata": {},
   "outputs": [],
   "source": [
    "# save if needed\n",
    "llm_df.to_csv(f\"{file_path}/conversations_and_category.csv\", index=False)"
   ]
  },
  {
   "cell_type": "markdown",
   "metadata": {},
   "source": [
    "### Create visualization "
   ]
  },
  {
   "cell_type": "code",
   "execution_count": 90,
   "metadata": {},
   "outputs": [],
   "source": [
    "# Export results in JSON format\n",
    "root = {\n",
    "    \"name\": \"categories\",\n",
    "    \"children\": []\n",
    "}\n",
    "for broad_category, group in merged.groupby([\"broad_category_id\", \"broad_category\"]):\n",
    "    parent = {\n",
    "        \"id\": int(broad_category[0]),\n",
    "        \"name\": broad_category[1],\n",
    "        \"children\": []\n",
    "    }\n",
    "    \n",
    "    for _, row in group.iterrows():\n",
    "        child = {\n",
    "            \"id\": row[\"narrower_category_id\"],\n",
    "            \"name\": row[\"narrower_category\"],\n",
    "            \"count\": row[\"prompt_count\"],\n",
    "            \"percent\": row['prompt_percentage'],\n",
    "        }\n",
    "\n",
    "        parent[\"children\"].append(child)\n",
    "    \n",
    "    root[\"children\"].append(parent)\n",
    "\n",
    "json_output = json.dumps(root, indent=4)\n",
    "\n",
    "with open(f\"{file_path}/data.json\", \"w\") as f:\n",
    "    f.write(json_output)"
   ]
  },
  {
   "cell_type": "code",
   "execution_count": 92,
   "metadata": {},
   "outputs": [],
   "source": [
    "# json file for example prompts\n",
    "import pickle \n",
    "\n",
    "with open(f\"{file_path}/example_prompts.pkl\", 'rb') as f:\n",
    "    sampled_prompts = pickle.load(f)\n",
    "\n",
    "# Group by 'broad_category' and transform to the desired JSON structure\n",
    "root = []\n",
    "for i in sampled_prompts:\n",
    "    obj = {\n",
    "        \"id\": i,\n",
    "        \"name\": merged[merged['narrower_category_id'] == i].loc[i, 'narrower_category'],\n",
    "        \"examples\": sampled_prompts[i],\n",
    "    }\n",
    "    root.append(obj)\n",
    "\n",
    "json_output = json.dumps(root, indent=4)\n",
    "with open(f\"{file_path}/examples.json\", \"w\") as f:\n",
    "    f.write(json_output)"
   ]
  },
  {
   "cell_type": "markdown",
   "metadata": {},
   "source": [
    "Instruction to generate explorer visualization:\n",
    "1. Run the pipeline to produce two output files: data.json and examples.json.\n",
    "2. Clone the [Arena-catalog](https://github.com/lmarena/arena-catalog) repository, which contains the necessary HTML, CSS, and JavaScript files for the explorer.\n",
    "2. In explorer/index.html, replace the file paths on lines 44 & 45 with the correct paths to your generated data.json and examples.json files."
   ]
  }
 ],
 "metadata": {
  "kernelspec": {
   "display_name": "topic_clustering",
   "language": "python",
   "name": "python3"
  },
  "language_info": {
   "codemirror_mode": {
    "name": "ipython",
    "version": 3
   },
   "file_extension": ".py",
   "mimetype": "text/x-python",
   "name": "python",
   "nbconvert_exporter": "python",
   "pygments_lexer": "ipython3",
   "version": "3.10.13"
  }
 },
 "nbformat": 4,
 "nbformat_minor": 2
}

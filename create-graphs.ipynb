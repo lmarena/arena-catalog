{
 "cells": [
  {
   "cell_type": "code",
   "execution_count": 111,
   "id": "2bd6a0ee-eff0-47d0-b093-83c9f86c4797",
   "metadata": {},
   "outputs": [],
   "source": [
    "import json\n",
    "import csv"
   ]
  },
  {
   "cell_type": "code",
   "execution_count": 112,
   "id": "1c6e7339-d6da-4580-826c-5aef143e2756",
   "metadata": {},
   "outputs": [],
   "source": [
    "import pandas as pd"
   ]
  },
  {
   "cell_type": "code",
   "execution_count": 136,
   "id": "1c529984-3c91-467c-b559-7ef46343a3d0",
   "metadata": {},
   "outputs": [],
   "source": [
    "write_to = open('pricing_data_restructured_for_visualizations.json', 'w')\n",
    "\n",
    "with open('pricing_table.json', 'r') as jsonfile:\n",
    "    all_info = []\n",
    "    pricing_json = json.load(jsonfile)\n",
    "    for batch in pricing_json:\n",
    "        models = list(pricing_json[batch].keys())\n",
    "        for model in models[:4]:\n",
    "            info = {}\n",
    "            info[\"model_key\"] = model\n",
    "            info[\"output_token_price\"] = pricing_json[batch][model][\"output_token_price\"]\n",
    "            info[\"organization\"] = batch\n",
    "            all_info.append(info)\n",
    "\n",
    "json.dump(all_info, write_to, indent = 2)\n",
    "    "
   ]
  },
  {
   "cell_type": "code",
   "execution_count": 137,
   "id": "260bbe5f-d0e0-4758-9734-9a897de2dddb",
   "metadata": {},
   "outputs": [],
   "source": [
    "with open('pricing_data_restructured_for_visualizations.json', 'r') as file:\n",
    "    pricing_data = pd.read_json(file)"
   ]
  },
  {
   "cell_type": "code",
   "execution_count": 138,
   "id": "ce0a51ce-1e76-40f4-a637-de6890dcaac6",
   "metadata": {},
   "outputs": [],
   "source": [
    "with open('rankings.json', 'r') as jsonfile:\n",
    "    rankings_json = pd.read_json(jsonfile)"
   ]
  },
  {
   "cell_type": "code",
   "execution_count": 139,
   "id": "517c0f28-1830-4112-bc11-e4c42df89fff",
   "metadata": {},
   "outputs": [],
   "source": [
    "def update_data_with_rank(row):\n",
    "  model_key = row['model_key']\n",
    "  if model_key in rankings_json:\n",
    "    return rankings_json[model_key][\"elo_rating\"]\n",
    "  return None"
   ]
  },
  {
   "cell_type": "code",
   "execution_count": 140,
   "id": "ccd027c9-4323-47ed-a8f4-3cfd8a5bf4ca",
   "metadata": {},
   "outputs": [],
   "source": [
    "pricing_data['score'] = pricing_data.apply(update_data_with_rank, axis=1)\n",
    "pricing_data.dropna(subset=['output_token_price'], inplace=True)\n",
    "pricing_data.dropna(subset=['score'], inplace=True)"
   ]
  },
  {
   "cell_type": "code",
   "execution_count": 146,
   "id": "04a62b76-be77-4bbc-98d5-fa4ddafff016",
   "metadata": {},
   "outputs": [
    {
     "data": {
      "application/vnd.plotly.v1+json": {
       "config": {
        "plotlyServerURL": "https://plot.ly"
       },
       "data": [
        {
         "hovertemplate": "organization=gemini<br>output_token_price=%{x}<br>Arena score=%{y}<br>model_key=%{text}<extra></extra>",
         "legendgroup": "gemini",
         "marker": {
          "color": "#636efa",
          "size": 8.5,
          "symbol": "circle"
         },
         "mode": "markers+text",
         "name": "gemini",
         "orientation": "v",
         "showlegend": true,
         "text": [
          "gemini-exp-1206",
          "gemini-exp-1121",
          "gemini-2.0-flash-exp",
          "gemini-exp-1114"
         ],
         "textfont": {
          "size": 13.2
         },
         "textposition": "bottom center",
         "texttemplate": "%{text}",
         "type": "scatter",
         "x": [
          "0.6",
          "0.6",
          "0.6",
          "0.6"
         ],
         "xaxis": "x",
         "y": [
          1375.546906655185,
          1363.8765553763121,
          1355.2586154334053,
          1342.324184997506
         ],
         "yaxis": "y"
        },
        {
         "hovertemplate": "organization=chatgpt<br>output_token_price=%{x}<br>Arena score=%{y}<br>model_key=%{text}<extra></extra>",
         "legendgroup": "chatgpt",
         "marker": {
          "color": "#EF553B",
          "size": 8.5,
          "symbol": "circle"
         },
         "mode": "markers+text",
         "name": "chatgpt",
         "orientation": "v",
         "showlegend": true,
         "text": [
          "chatgpt-4o-latest-20241120",
          "chatgpt-4o-latest-20240903",
          "chatgpt-4o-latest-20240808"
         ],
         "textfont": {
          "size": 13.2
         },
         "textposition": "bottom center",
         "texttemplate": "%{text}",
         "type": "scatter",
         "x": [
          "15",
          "15",
          "15"
         ],
         "xaxis": "x",
         "y": [
          1364.0560541458321,
          1338.4971065111642,
          1316.6466676143718
         ],
         "yaxis": "y"
        },
        {
         "hovertemplate": "organization=o1<br>output_token_price=%{x}<br>Arena score=%{y}<br>model_key=%{text}<extra></extra>",
         "legendgroup": "o1",
         "marker": {
          "color": "#00cc96",
          "size": 8.5,
          "symbol": "circle"
         },
         "mode": "markers+text",
         "name": "o1",
         "orientation": "v",
         "showlegend": true,
         "text": [
          "o1-preview",
          "o1-mini"
         ],
         "textfont": {
          "size": 13.2
         },
         "textposition": "bottom center",
         "texttemplate": "%{text}",
         "type": "scatter",
         "x": [
          "60",
          "12"
         ],
         "xaxis": "x",
         "y": [
          1333.2886618361053,
          1306.4662348606237
         ],
         "yaxis": "y"
        },
        {
         "hovertemplate": "organization=grok<br>output_token_price=%{x}<br>Arena score=%{y}<br>model_key=%{text}<extra></extra>",
         "legendgroup": "grok",
         "marker": {
          "color": "#ab63fa",
          "size": 8.5,
          "symbol": "circle"
         },
         "mode": "markers+text",
         "name": "grok",
         "orientation": "v",
         "showlegend": true,
         "text": [
          "grok-2-2024-08-13",
          "grok-2-mini-2024-08-13"
         ],
         "textfont": {
          "size": 13.2
         },
         "textposition": "bottom center",
         "texttemplate": "%{text}",
         "type": "scatter",
         "x": [
          "n/a",
          "n/a"
         ],
         "xaxis": "x",
         "y": [
          1288.4975078919258,
          1266.5044278623373
         ],
         "yaxis": "y"
        },
        {
         "hovertemplate": "organization=yi<br>output_token_price=%{x}<br>Arena score=%{y}<br>model_key=%{text}<extra></extra>",
         "legendgroup": "yi",
         "marker": {
          "color": "#FFA15A",
          "size": 8.5,
          "symbol": "circle"
         },
         "mode": "markers+text",
         "name": "yi",
         "orientation": "v",
         "showlegend": true,
         "text": [
          "yi-lightning",
          "yi-lightning-lite",
          "yi-large-preview",
          "yi-large"
         ],
         "textfont": {
          "size": 13.2
         },
         "textposition": "bottom center",
         "texttemplate": "%{text}",
         "type": "scatter",
         "x": [
          "0.0063",
          "0.0063",
          "2.85",
          "3"
         ],
         "xaxis": "x",
         "y": [
          1287.4149124219596,
          1263.916674056708,
          1239.436097996084,
          1212.4843832661807
         ],
         "yaxis": "y"
        },
        {
         "hovertemplate": "organization=gpt<br>output_token_price=%{x}<br>Arena score=%{y}<br>model_key=%{text}<extra></extra>",
         "legendgroup": "gpt",
         "marker": {
          "color": "#19d3f3",
          "size": 8.5,
          "symbol": "circle"
         },
         "mode": "markers+text",
         "name": "gpt",
         "orientation": "v",
         "showlegend": true,
         "text": [
          "gpt-4o-2024-05-13",
          "gpt-4o-mini-2024-07-18",
          "gpt-4o-2024-08-06",
          "gpt-4-turbo-2024-04-09"
         ],
         "textfont": {
          "size": 13.2
         },
         "textposition": "bottom center",
         "texttemplate": "%{text}",
         "type": "scatter",
         "x": [
          "15",
          "0.6",
          "10",
          "30"
         ],
         "xaxis": "x",
         "y": [
          1284.5048031293084,
          1272.6225957805214,
          1264.975668425101,
          1256.3585074834673
         ],
         "yaxis": "y"
        },
        {
         "hovertemplate": "organization=claude<br>output_token_price=%{x}<br>Arena score=%{y}<br>model_key=%{text}<extra></extra>",
         "legendgroup": "claude",
         "marker": {
          "color": "#FF6692",
          "size": 8.5,
          "symbol": "circle"
         },
         "mode": "markers+text",
         "name": "claude",
         "orientation": "v",
         "showlegend": true,
         "text": [
          "claude-3-5-sonnet-20241022-sp",
          "claude-3-5-sonnet-20241022",
          "claude-3-5-sonnet-20240620",
          "claude-3-opus-20240229"
         ],
         "textfont": {
          "size": 13.2
         },
         "textposition": "bottom center",
         "texttemplate": "%{text}",
         "type": "scatter",
         "x": [
          "15",
          "15",
          "15",
          "75"
         ],
         "xaxis": "x",
         "y": [
          1282.9566004758806,
          1281.2600323848274,
          1268.1722783757948,
          1247.3372718548726
         ],
         "yaxis": "y"
        },
        {
         "hovertemplate": "organization=athene<br>output_token_price=%{x}<br>Arena score=%{y}<br>model_key=%{text}<extra></extra>",
         "legendgroup": "athene",
         "marker": {
          "color": "#B6E880",
          "size": 8.5,
          "symbol": "circle"
         },
         "mode": "markers+text",
         "name": "athene",
         "orientation": "v",
         "showlegend": true,
         "text": [
          "athene-v2-chat",
          "athene-70b-0725"
         ],
         "textfont": {
          "size": 13.2
         },
         "textposition": "bottom center",
         "texttemplate": "%{text}",
         "type": "scatter",
         "x": [
          "0.79",
          "0.79"
         ],
         "xaxis": "x",
         "y": [
          1278.1979387779654,
          1249.790426474491
         ],
         "yaxis": "y"
        },
        {
         "hovertemplate": "organization=glm<br>output_token_price=%{x}<br>Arena score=%{y}<br>model_key=%{text}<extra></extra>",
         "legendgroup": "glm",
         "marker": {
          "color": "#FF97FF",
          "size": 8.5,
          "symbol": "circle"
         },
         "mode": "markers+text",
         "name": "glm",
         "orientation": "v",
         "showlegend": true,
         "text": [
          "glm-4-plus",
          "glm-4-0520",
          "glm-4-0116"
         ],
         "textfont": {
          "size": 13.2
         },
         "textposition": "bottom center",
         "texttemplate": "%{text}",
         "type": "scatter",
         "x": [
          "0.32",
          "0.67",
          "0.67"
         ],
         "xaxis": "x",
         "y": [
          1273.374493755956,
          1206.2344217113637,
          1183.3356255287927
         ],
         "yaxis": "y"
        },
        {
         "hovertemplate": "organization=llama<br>output_token_price=%{x}<br>Arena score=%{y}<br>model_key=%{text}<extra></extra>",
         "legendgroup": "llama",
         "marker": {
          "color": "#FECB52",
          "size": 8.5,
          "symbol": "circle"
         },
         "mode": "markers+text",
         "name": "llama",
         "orientation": "v",
         "showlegend": true,
         "text": [
          "llama-3.1-nemotron-70b-instruct",
          "llama-3.1-405b-instruct-fp8"
         ],
         "textfont": {
          "size": 13.2
         },
         "textposition": "bottom center",
         "texttemplate": "%{text}",
         "type": "scatter",
         "x": [
          "0.88",
          "3.5"
         ],
         "xaxis": "x",
         "y": [
          1268.0890091966544,
          1267.5008146788552
         ],
         "yaxis": "y"
        }
       ],
       "layout": {
        "autosize": true,
        "legend": {
         "bgcolor": "LightSteelBlue",
         "bordercolor": "White",
         "borderwidth": 2,
         "font": {
          "color": "black",
          "size": 12
         },
         "title": {
          "text": "organization"
         },
         "tracegroupgap": 0,
         "traceorder": "reversed",
         "x": 0.01,
         "y": 1
        },
        "margin": {
         "b": 50,
         "l": 50,
         "r": 50,
         "t": 100
        },
        "template": {
         "data": {
          "bar": [
           {
            "error_x": {
             "color": "#f2f5fa"
            },
            "error_y": {
             "color": "#f2f5fa"
            },
            "marker": {
             "line": {
              "color": "rgb(17,17,17)",
              "width": 0.5
             },
             "pattern": {
              "fillmode": "overlay",
              "size": 10,
              "solidity": 0.2
             }
            },
            "type": "bar"
           }
          ],
          "barpolar": [
           {
            "marker": {
             "line": {
              "color": "rgb(17,17,17)",
              "width": 0.5
             },
             "pattern": {
              "fillmode": "overlay",
              "size": 10,
              "solidity": 0.2
             }
            },
            "type": "barpolar"
           }
          ],
          "carpet": [
           {
            "aaxis": {
             "endlinecolor": "#A2B1C6",
             "gridcolor": "#506784",
             "linecolor": "#506784",
             "minorgridcolor": "#506784",
             "startlinecolor": "#A2B1C6"
            },
            "baxis": {
             "endlinecolor": "#A2B1C6",
             "gridcolor": "#506784",
             "linecolor": "#506784",
             "minorgridcolor": "#506784",
             "startlinecolor": "#A2B1C6"
            },
            "type": "carpet"
           }
          ],
          "choropleth": [
           {
            "colorbar": {
             "outlinewidth": 0,
             "ticks": ""
            },
            "type": "choropleth"
           }
          ],
          "contour": [
           {
            "colorbar": {
             "outlinewidth": 0,
             "ticks": ""
            },
            "colorscale": [
             [
              0,
              "#0d0887"
             ],
             [
              0.1111111111111111,
              "#46039f"
             ],
             [
              0.2222222222222222,
              "#7201a8"
             ],
             [
              0.3333333333333333,
              "#9c179e"
             ],
             [
              0.4444444444444444,
              "#bd3786"
             ],
             [
              0.5555555555555556,
              "#d8576b"
             ],
             [
              0.6666666666666666,
              "#ed7953"
             ],
             [
              0.7777777777777778,
              "#fb9f3a"
             ],
             [
              0.8888888888888888,
              "#fdca26"
             ],
             [
              1,
              "#f0f921"
             ]
            ],
            "type": "contour"
           }
          ],
          "contourcarpet": [
           {
            "colorbar": {
             "outlinewidth": 0,
             "ticks": ""
            },
            "type": "contourcarpet"
           }
          ],
          "heatmap": [
           {
            "colorbar": {
             "outlinewidth": 0,
             "ticks": ""
            },
            "colorscale": [
             [
              0,
              "#0d0887"
             ],
             [
              0.1111111111111111,
              "#46039f"
             ],
             [
              0.2222222222222222,
              "#7201a8"
             ],
             [
              0.3333333333333333,
              "#9c179e"
             ],
             [
              0.4444444444444444,
              "#bd3786"
             ],
             [
              0.5555555555555556,
              "#d8576b"
             ],
             [
              0.6666666666666666,
              "#ed7953"
             ],
             [
              0.7777777777777778,
              "#fb9f3a"
             ],
             [
              0.8888888888888888,
              "#fdca26"
             ],
             [
              1,
              "#f0f921"
             ]
            ],
            "type": "heatmap"
           }
          ],
          "heatmapgl": [
           {
            "colorbar": {
             "outlinewidth": 0,
             "ticks": ""
            },
            "colorscale": [
             [
              0,
              "#0d0887"
             ],
             [
              0.1111111111111111,
              "#46039f"
             ],
             [
              0.2222222222222222,
              "#7201a8"
             ],
             [
              0.3333333333333333,
              "#9c179e"
             ],
             [
              0.4444444444444444,
              "#bd3786"
             ],
             [
              0.5555555555555556,
              "#d8576b"
             ],
             [
              0.6666666666666666,
              "#ed7953"
             ],
             [
              0.7777777777777778,
              "#fb9f3a"
             ],
             [
              0.8888888888888888,
              "#fdca26"
             ],
             [
              1,
              "#f0f921"
             ]
            ],
            "type": "heatmapgl"
           }
          ],
          "histogram": [
           {
            "marker": {
             "pattern": {
              "fillmode": "overlay",
              "size": 10,
              "solidity": 0.2
             }
            },
            "type": "histogram"
           }
          ],
          "histogram2d": [
           {
            "colorbar": {
             "outlinewidth": 0,
             "ticks": ""
            },
            "colorscale": [
             [
              0,
              "#0d0887"
             ],
             [
              0.1111111111111111,
              "#46039f"
             ],
             [
              0.2222222222222222,
              "#7201a8"
             ],
             [
              0.3333333333333333,
              "#9c179e"
             ],
             [
              0.4444444444444444,
              "#bd3786"
             ],
             [
              0.5555555555555556,
              "#d8576b"
             ],
             [
              0.6666666666666666,
              "#ed7953"
             ],
             [
              0.7777777777777778,
              "#fb9f3a"
             ],
             [
              0.8888888888888888,
              "#fdca26"
             ],
             [
              1,
              "#f0f921"
             ]
            ],
            "type": "histogram2d"
           }
          ],
          "histogram2dcontour": [
           {
            "colorbar": {
             "outlinewidth": 0,
             "ticks": ""
            },
            "colorscale": [
             [
              0,
              "#0d0887"
             ],
             [
              0.1111111111111111,
              "#46039f"
             ],
             [
              0.2222222222222222,
              "#7201a8"
             ],
             [
              0.3333333333333333,
              "#9c179e"
             ],
             [
              0.4444444444444444,
              "#bd3786"
             ],
             [
              0.5555555555555556,
              "#d8576b"
             ],
             [
              0.6666666666666666,
              "#ed7953"
             ],
             [
              0.7777777777777778,
              "#fb9f3a"
             ],
             [
              0.8888888888888888,
              "#fdca26"
             ],
             [
              1,
              "#f0f921"
             ]
            ],
            "type": "histogram2dcontour"
           }
          ],
          "mesh3d": [
           {
            "colorbar": {
             "outlinewidth": 0,
             "ticks": ""
            },
            "type": "mesh3d"
           }
          ],
          "parcoords": [
           {
            "line": {
             "colorbar": {
              "outlinewidth": 0,
              "ticks": ""
             }
            },
            "type": "parcoords"
           }
          ],
          "pie": [
           {
            "automargin": true,
            "type": "pie"
           }
          ],
          "scatter": [
           {
            "marker": {
             "line": {
              "color": "#283442"
             }
            },
            "type": "scatter"
           }
          ],
          "scatter3d": [
           {
            "line": {
             "colorbar": {
              "outlinewidth": 0,
              "ticks": ""
             }
            },
            "marker": {
             "colorbar": {
              "outlinewidth": 0,
              "ticks": ""
             }
            },
            "type": "scatter3d"
           }
          ],
          "scattercarpet": [
           {
            "marker": {
             "colorbar": {
              "outlinewidth": 0,
              "ticks": ""
             }
            },
            "type": "scattercarpet"
           }
          ],
          "scattergeo": [
           {
            "marker": {
             "colorbar": {
              "outlinewidth": 0,
              "ticks": ""
             }
            },
            "type": "scattergeo"
           }
          ],
          "scattergl": [
           {
            "marker": {
             "line": {
              "color": "#283442"
             }
            },
            "type": "scattergl"
           }
          ],
          "scattermapbox": [
           {
            "marker": {
             "colorbar": {
              "outlinewidth": 0,
              "ticks": ""
             }
            },
            "type": "scattermapbox"
           }
          ],
          "scatterpolar": [
           {
            "marker": {
             "colorbar": {
              "outlinewidth": 0,
              "ticks": ""
             }
            },
            "type": "scatterpolar"
           }
          ],
          "scatterpolargl": [
           {
            "marker": {
             "colorbar": {
              "outlinewidth": 0,
              "ticks": ""
             }
            },
            "type": "scatterpolargl"
           }
          ],
          "scatterternary": [
           {
            "marker": {
             "colorbar": {
              "outlinewidth": 0,
              "ticks": ""
             }
            },
            "type": "scatterternary"
           }
          ],
          "surface": [
           {
            "colorbar": {
             "outlinewidth": 0,
             "ticks": ""
            },
            "colorscale": [
             [
              0,
              "#0d0887"
             ],
             [
              0.1111111111111111,
              "#46039f"
             ],
             [
              0.2222222222222222,
              "#7201a8"
             ],
             [
              0.3333333333333333,
              "#9c179e"
             ],
             [
              0.4444444444444444,
              "#bd3786"
             ],
             [
              0.5555555555555556,
              "#d8576b"
             ],
             [
              0.6666666666666666,
              "#ed7953"
             ],
             [
              0.7777777777777778,
              "#fb9f3a"
             ],
             [
              0.8888888888888888,
              "#fdca26"
             ],
             [
              1,
              "#f0f921"
             ]
            ],
            "type": "surface"
           }
          ],
          "table": [
           {
            "cells": {
             "fill": {
              "color": "#506784"
             },
             "line": {
              "color": "rgb(17,17,17)"
             }
            },
            "header": {
             "fill": {
              "color": "#2a3f5f"
             },
             "line": {
              "color": "rgb(17,17,17)"
             }
            },
            "type": "table"
           }
          ]
         },
         "layout": {
          "annotationdefaults": {
           "arrowcolor": "#f2f5fa",
           "arrowhead": 0,
           "arrowwidth": 1
          },
          "autotypenumbers": "strict",
          "coloraxis": {
           "colorbar": {
            "outlinewidth": 0,
            "ticks": ""
           }
          },
          "colorscale": {
           "diverging": [
            [
             0,
             "#8e0152"
            ],
            [
             0.1,
             "#c51b7d"
            ],
            [
             0.2,
             "#de77ae"
            ],
            [
             0.3,
             "#f1b6da"
            ],
            [
             0.4,
             "#fde0ef"
            ],
            [
             0.5,
             "#f7f7f7"
            ],
            [
             0.6,
             "#e6f5d0"
            ],
            [
             0.7,
             "#b8e186"
            ],
            [
             0.8,
             "#7fbc41"
            ],
            [
             0.9,
             "#4d9221"
            ],
            [
             1,
             "#276419"
            ]
           ],
           "sequential": [
            [
             0,
             "#0d0887"
            ],
            [
             0.1111111111111111,
             "#46039f"
            ],
            [
             0.2222222222222222,
             "#7201a8"
            ],
            [
             0.3333333333333333,
             "#9c179e"
            ],
            [
             0.4444444444444444,
             "#bd3786"
            ],
            [
             0.5555555555555556,
             "#d8576b"
            ],
            [
             0.6666666666666666,
             "#ed7953"
            ],
            [
             0.7777777777777778,
             "#fb9f3a"
            ],
            [
             0.8888888888888888,
             "#fdca26"
            ],
            [
             1,
             "#f0f921"
            ]
           ],
           "sequentialminus": [
            [
             0,
             "#0d0887"
            ],
            [
             0.1111111111111111,
             "#46039f"
            ],
            [
             0.2222222222222222,
             "#7201a8"
            ],
            [
             0.3333333333333333,
             "#9c179e"
            ],
            [
             0.4444444444444444,
             "#bd3786"
            ],
            [
             0.5555555555555556,
             "#d8576b"
            ],
            [
             0.6666666666666666,
             "#ed7953"
            ],
            [
             0.7777777777777778,
             "#fb9f3a"
            ],
            [
             0.8888888888888888,
             "#fdca26"
            ],
            [
             1,
             "#f0f921"
            ]
           ]
          },
          "colorway": [
           "#636efa",
           "#EF553B",
           "#00cc96",
           "#ab63fa",
           "#FFA15A",
           "#19d3f3",
           "#FF6692",
           "#B6E880",
           "#FF97FF",
           "#FECB52"
          ],
          "font": {
           "color": "#f2f5fa"
          },
          "geo": {
           "bgcolor": "rgb(17,17,17)",
           "lakecolor": "rgb(17,17,17)",
           "landcolor": "rgb(17,17,17)",
           "showlakes": true,
           "showland": true,
           "subunitcolor": "#506784"
          },
          "hoverlabel": {
           "align": "left"
          },
          "hovermode": "closest",
          "mapbox": {
           "style": "dark"
          },
          "paper_bgcolor": "rgb(17,17,17)",
          "plot_bgcolor": "rgb(17,17,17)",
          "polar": {
           "angularaxis": {
            "gridcolor": "#506784",
            "linecolor": "#506784",
            "ticks": ""
           },
           "bgcolor": "rgb(17,17,17)",
           "radialaxis": {
            "gridcolor": "#506784",
            "linecolor": "#506784",
            "ticks": ""
           }
          },
          "scene": {
           "xaxis": {
            "backgroundcolor": "rgb(17,17,17)",
            "gridcolor": "#506784",
            "gridwidth": 2,
            "linecolor": "#506784",
            "showbackground": true,
            "ticks": "",
            "zerolinecolor": "#C8D4E3"
           },
           "yaxis": {
            "backgroundcolor": "rgb(17,17,17)",
            "gridcolor": "#506784",
            "gridwidth": 2,
            "linecolor": "#506784",
            "showbackground": true,
            "ticks": "",
            "zerolinecolor": "#C8D4E3"
           },
           "zaxis": {
            "backgroundcolor": "rgb(17,17,17)",
            "gridcolor": "#506784",
            "gridwidth": 2,
            "linecolor": "#506784",
            "showbackground": true,
            "ticks": "",
            "zerolinecolor": "#C8D4E3"
           }
          },
          "shapedefaults": {
           "line": {
            "color": "#f2f5fa"
           }
          },
          "sliderdefaults": {
           "bgcolor": "#C8D4E3",
           "bordercolor": "rgb(17,17,17)",
           "borderwidth": 1,
           "tickwidth": 0
          },
          "ternary": {
           "aaxis": {
            "gridcolor": "#506784",
            "linecolor": "#506784",
            "ticks": ""
           },
           "baxis": {
            "gridcolor": "#506784",
            "linecolor": "#506784",
            "ticks": ""
           },
           "bgcolor": "rgb(17,17,17)",
           "caxis": {
            "gridcolor": "#506784",
            "linecolor": "#506784",
            "ticks": ""
           }
          },
          "title": {
           "x": 0.05
          },
          "updatemenudefaults": {
           "bgcolor": "#506784",
           "borderwidth": 0
          },
          "xaxis": {
           "automargin": true,
           "gridcolor": "#283442",
           "linecolor": "#506784",
           "ticks": "",
           "title": {
            "standoff": 15
           },
           "zerolinecolor": "#283442",
           "zerolinewidth": 2
          },
          "yaxis": {
           "automargin": true,
           "gridcolor": "#283442",
           "linecolor": "#506784",
           "ticks": "",
           "title": {
            "standoff": 15
           },
           "zerolinecolor": "#283442",
           "zerolinewidth": 2
          }
         }
        },
        "title": {
         "text": "Quality vs. Cost Effectiveness"
        },
        "xaxis": {
         "anchor": "y",
         "domain": [
          0,
          1
         ],
         "range": [
          -3,
          2
         ],
         "title": {
          "text": "output_token_price"
         },
         "type": "log"
        },
        "yaxis": {
         "anchor": "x",
         "domain": [
          0,
          1
         ],
         "range": [
          1230,
          1380
         ],
         "title": {
          "text": "Arena score"
         },
         "type": "linear"
        }
       }
      },
      "image/png": "[encoded data removed]",
      "text/html": [
       "<div>                            <div id=\"1e0e7d42-6408-4dc4-86e4-f71439e78f3d\" class=\"plotly-graph-div\" style=\"height:1000px; width:100%;\"></div>            <script type=\"text/javascript\">                require([\"plotly\"], function(Plotly) {                    window.PLOTLYENV=window.PLOTLYENV || {};                                    if (document.getElementById(\"1e0e7d42-6408-4dc4-86e4-f71439e78f3d\")) {                    Plotly.newPlot(                        \"1e0e7d42-6408-4dc4-86e4-f71439e78f3d\",                        [{\"hovertemplate\":\"organization=gemini\\u003cbr\\u003eoutput_token_price=%{x}\\u003cbr\\u003eArena score=%{y}\\u003cbr\\u003emodel_key=%{text}\\u003cextra\\u003e\\u003c\\u002fextra\\u003e\",\"legendgroup\":\"gemini\",\"marker\":{\"color\":\"#636efa\",\"symbol\":\"circle\",\"size\":8.5},\"mode\":\"markers+text\",\"name\":\"gemini\",\"orientation\":\"v\",\"showlegend\":true,\"text\":[\"gemini-exp-1206\",\"gemini-exp-1121\",\"gemini-2.0-flash-exp\",\"gemini-exp-1114\"],\"x\":[\"0.6\",\"0.6\",\"0.6\",\"0.6\"],\"xaxis\":\"x\",\"y\":[1375.546906655185,1363.8765553763121,1355.2586154334053,1342.324184997506],\"yaxis\":\"y\",\"type\":\"scatter\",\"textfont\":{\"size\":13.2},\"textposition\":\"bottom center\",\"texttemplate\":\"%{text}\"},{\"hovertemplate\":\"organization=chatgpt\\u003cbr\\u003eoutput_token_price=%{x}\\u003cbr\\u003eArena score=%{y}\\u003cbr\\u003emodel_key=%{text}\\u003cextra\\u003e\\u003c\\u002fextra\\u003e\",\"legendgroup\":\"chatgpt\",\"marker\":{\"color\":\"#EF553B\",\"symbol\":\"circle\",\"size\":8.5},\"mode\":\"markers+text\",\"name\":\"chatgpt\",\"orientation\":\"v\",\"showlegend\":true,\"text\":[\"chatgpt-4o-latest-20241120\",\"chatgpt-4o-latest-20240903\",\"chatgpt-4o-latest-20240808\"],\"x\":[\"15\",\"15\",\"15\"],\"xaxis\":\"x\",\"y\":[1364.0560541458321,1338.4971065111642,1316.6466676143718],\"yaxis\":\"y\",\"type\":\"scatter\",\"textfont\":{\"size\":13.2},\"textposition\":\"bottom center\",\"texttemplate\":\"%{text}\"},{\"hovertemplate\":\"organization=o1\\u003cbr\\u003eoutput_token_price=%{x}\\u003cbr\\u003eArena score=%{y}\\u003cbr\\u003emodel_key=%{text}\\u003cextra\\u003e\\u003c\\u002fextra\\u003e\",\"legendgroup\":\"o1\",\"marker\":{\"color\":\"#00cc96\",\"symbol\":\"circle\",\"size\":8.5},\"mode\":\"markers+text\",\"name\":\"o1\",\"orientation\":\"v\",\"showlegend\":true,\"text\":[\"o1-preview\",\"o1-mini\"],\"x\":[\"60\",\"12\"],\"xaxis\":\"x\",\"y\":[1333.2886618361053,1306.4662348606237],\"yaxis\":\"y\",\"type\":\"scatter\",\"textfont\":{\"size\":13.2},\"textposition\":\"bottom center\",\"texttemplate\":\"%{text}\"},{\"hovertemplate\":\"organization=grok\\u003cbr\\u003eoutput_token_price=%{x}\\u003cbr\\u003eArena score=%{y}\\u003cbr\\u003emodel_key=%{text}\\u003cextra\\u003e\\u003c\\u002fextra\\u003e\",\"legendgroup\":\"grok\",\"marker\":{\"color\":\"#ab63fa\",\"symbol\":\"circle\",\"size\":8.5},\"mode\":\"markers+text\",\"name\":\"grok\",\"orientation\":\"v\",\"showlegend\":true,\"text\":[\"grok-2-2024-08-13\",\"grok-2-mini-2024-08-13\"],\"x\":[\"n\\u002fa\",\"n\\u002fa\"],\"xaxis\":\"x\",\"y\":[1288.4975078919258,1266.5044278623373],\"yaxis\":\"y\",\"type\":\"scatter\",\"textfont\":{\"size\":13.2},\"textposition\":\"bottom center\",\"texttemplate\":\"%{text}\"},{\"hovertemplate\":\"organization=yi\\u003cbr\\u003eoutput_token_price=%{x}\\u003cbr\\u003eArena score=%{y}\\u003cbr\\u003emodel_key=%{text}\\u003cextra\\u003e\\u003c\\u002fextra\\u003e\",\"legendgroup\":\"yi\",\"marker\":{\"color\":\"#FFA15A\",\"symbol\":\"circle\",\"size\":8.5},\"mode\":\"markers+text\",\"name\":\"yi\",\"orientation\":\"v\",\"showlegend\":true,\"text\":[\"yi-lightning\",\"yi-lightning-lite\",\"yi-large-preview\",\"yi-large\"],\"x\":[\"0.0063\",\"0.0063\",\"2.85\",\"3\"],\"xaxis\":\"x\",\"y\":[1287.4149124219596,1263.916674056708,1239.436097996084,1212.4843832661807],\"yaxis\":\"y\",\"type\":\"scatter\",\"textfont\":{\"size\":13.2},\"textposition\":\"bottom center\",\"texttemplate\":\"%{text}\"},{\"hovertemplate\":\"organization=gpt\\u003cbr\\u003eoutput_token_price=%{x}\\u003cbr\\u003eArena score=%{y}\\u003cbr\\u003emodel_key=%{text}\\u003cextra\\u003e\\u003c\\u002fextra\\u003e\",\"legendgroup\":\"gpt\",\"marker\":{\"color\":\"#19d3f3\",\"symbol\":\"circle\",\"size\":8.5},\"mode\":\"markers+text\",\"name\":\"gpt\",\"orientation\":\"v\",\"showlegend\":true,\"text\":[\"gpt-4o-2024-05-13\",\"gpt-4o-mini-2024-07-18\",\"gpt-4o-2024-08-06\",\"gpt-4-turbo-2024-04-09\"],\"x\":[\"15\",\"0.6\",\"10\",\"30\"],\"xaxis\":\"x\",\"y\":[1284.5048031293084,1272.6225957805214,1264.975668425101,1256.3585074834673],\"yaxis\":\"y\",\"type\":\"scatter\",\"textfont\":{\"size\":13.2},\"textposition\":\"bottom center\",\"texttemplate\":\"%{text}\"},{\"hovertemplate\":\"organization=claude\\u003cbr\\u003eoutput_token_price=%{x}\\u003cbr\\u003eArena score=%{y}\\u003cbr\\u003emodel_key=%{text}\\u003cextra\\u003e\\u003c\\u002fextra\\u003e\",\"legendgroup\":\"claude\",\"marker\":{\"color\":\"#FF6692\",\"symbol\":\"circle\",\"size\":8.5},\"mode\":\"markers+text\",\"name\":\"claude\",\"orientation\":\"v\",\"showlegend\":true,\"text\":[\"claude-3-5-sonnet-20241022-sp\",\"claude-3-5-sonnet-20241022\",\"claude-3-5-sonnet-20240620\",\"claude-3-opus-20240229\"],\"x\":[\"15\",\"15\",\"15\",\"75\"],\"xaxis\":\"x\",\"y\":[1282.9566004758806,1281.2600323848274,1268.1722783757948,1247.3372718548726],\"yaxis\":\"y\",\"type\":\"scatter\",\"textfont\":{\"size\":13.2},\"textposition\":\"bottom center\",\"texttemplate\":\"%{text}\"},{\"hovertemplate\":\"organization=athene\\u003cbr\\u003eoutput_token_price=%{x}\\u003cbr\\u003eArena score=%{y}\\u003cbr\\u003emodel_key=%{text}\\u003cextra\\u003e\\u003c\\u002fextra\\u003e\",\"legendgroup\":\"athene\",\"marker\":{\"color\":\"#B6E880\",\"symbol\":\"circle\",\"size\":8.5},\"mode\":\"markers+text\",\"name\":\"athene\",\"orientation\":\"v\",\"showlegend\":true,\"text\":[\"athene-v2-chat\",\"athene-70b-0725\"],\"x\":[\"0.79\",\"0.79\"],\"xaxis\":\"x\",\"y\":[1278.1979387779654,1249.790426474491],\"yaxis\":\"y\",\"type\":\"scatter\",\"textfont\":{\"size\":13.2},\"textposition\":\"bottom center\",\"texttemplate\":\"%{text}\"},{\"hovertemplate\":\"organization=glm\\u003cbr\\u003eoutput_token_price=%{x}\\u003cbr\\u003eArena score=%{y}\\u003cbr\\u003emodel_key=%{text}\\u003cextra\\u003e\\u003c\\u002fextra\\u003e\",\"legendgroup\":\"glm\",\"marker\":{\"color\":\"#FF97FF\",\"symbol\":\"circle\",\"size\":8.5},\"mode\":\"markers+text\",\"name\":\"glm\",\"orientation\":\"v\",\"showlegend\":true,\"text\":[\"glm-4-plus\",\"glm-4-0520\",\"glm-4-0116\"],\"x\":[\"0.32\",\"0.67\",\"0.67\"],\"xaxis\":\"x\",\"y\":[1273.374493755956,1206.2344217113637,1183.3356255287927],\"yaxis\":\"y\",\"type\":\"scatter\",\"textfont\":{\"size\":13.2},\"textposition\":\"bottom center\",\"texttemplate\":\"%{text}\"},{\"hovertemplate\":\"organization=llama\\u003cbr\\u003eoutput_token_price=%{x}\\u003cbr\\u003eArena score=%{y}\\u003cbr\\u003emodel_key=%{text}\\u003cextra\\u003e\\u003c\\u002fextra\\u003e\",\"legendgroup\":\"llama\",\"marker\":{\"color\":\"#FECB52\",\"symbol\":\"circle\",\"size\":8.5},\"mode\":\"markers+text\",\"name\":\"llama\",\"orientation\":\"v\",\"showlegend\":true,\"text\":[\"llama-3.1-nemotron-70b-instruct\",\"llama-3.1-405b-instruct-fp8\"],\"x\":[\"0.88\",\"3.5\"],\"xaxis\":\"x\",\"y\":[1268.0890091966544,1267.5008146788552],\"yaxis\":\"y\",\"type\":\"scatter\",\"textfont\":{\"size\":13.2},\"textposition\":\"bottom center\",\"texttemplate\":\"%{text}\"}],                        {\"template\":{\"data\":{\"barpolar\":[{\"marker\":{\"line\":{\"color\":\"rgb(17,17,17)\",\"width\":0.5},\"pattern\":{\"fillmode\":\"overlay\",\"size\":10,\"solidity\":0.2}},\"type\":\"barpolar\"}],\"bar\":[{\"error_x\":{\"color\":\"#f2f5fa\"},\"error_y\":{\"color\":\"#f2f5fa\"},\"marker\":{\"line\":{\"color\":\"rgb(17,17,17)\",\"width\":0.5},\"pattern\":{\"fillmode\":\"overlay\",\"size\":10,\"solidity\":0.2}},\"type\":\"bar\"}],\"carpet\":[{\"aaxis\":{\"endlinecolor\":\"#A2B1C6\",\"gridcolor\":\"#506784\",\"linecolor\":\"#506784\",\"minorgridcolor\":\"#506784\",\"startlinecolor\":\"#A2B1C6\"},\"baxis\":{\"endlinecolor\":\"#A2B1C6\",\"gridcolor\":\"#506784\",\"linecolor\":\"#506784\",\"minorgridcolor\":\"#506784\",\"startlinecolor\":\"#A2B1C6\"},\"type\":\"carpet\"}],\"choropleth\":[{\"colorbar\":{\"outlinewidth\":0,\"ticks\":\"\"},\"type\":\"choropleth\"}],\"contourcarpet\":[{\"colorbar\":{\"outlinewidth\":0,\"ticks\":\"\"},\"type\":\"contourcarpet\"}],\"contour\":[{\"colorbar\":{\"outlinewidth\":0,\"ticks\":\"\"},\"colorscale\":[[0.0,\"#0d0887\"],[0.1111111111111111,\"#46039f\"],[0.2222222222222222,\"#7201a8\"],[0.3333333333333333,\"#9c179e\"],[0.4444444444444444,\"#bd3786\"],[0.5555555555555556,\"#d8576b\"],[0.6666666666666666,\"#ed7953\"],[0.7777777777777778,\"#fb9f3a\"],[0.8888888888888888,\"#fdca26\"],[1.0,\"#f0f921\"]],\"type\":\"contour\"}],\"heatmapgl\":[{\"colorbar\":{\"outlinewidth\":0,\"ticks\":\"\"},\"colorscale\":[[0.0,\"#0d0887\"],[0.1111111111111111,\"#46039f\"],[0.2222222222222222,\"#7201a8\"],[0.3333333333333333,\"#9c179e\"],[0.4444444444444444,\"#bd3786\"],[0.5555555555555556,\"#d8576b\"],[0.6666666666666666,\"#ed7953\"],[0.7777777777777778,\"#fb9f3a\"],[0.8888888888888888,\"#fdca26\"],[1.0,\"#f0f921\"]],\"type\":\"heatmapgl\"}],\"heatmap\":[{\"colorbar\":{\"outlinewidth\":0,\"ticks\":\"\"},\"colorscale\":[[0.0,\"#0d0887\"],[0.1111111111111111,\"#46039f\"],[0.2222222222222222,\"#7201a8\"],[0.3333333333333333,\"#9c179e\"],[0.4444444444444444,\"#bd3786\"],[0.5555555555555556,\"#d8576b\"],[0.6666666666666666,\"#ed7953\"],[0.7777777777777778,\"#fb9f3a\"],[0.8888888888888888,\"#fdca26\"],[1.0,\"#f0f921\"]],\"type\":\"heatmap\"}],\"histogram2dcontour\":[{\"colorbar\":{\"outlinewidth\":0,\"ticks\":\"\"},\"colorscale\":[[0.0,\"#0d0887\"],[0.1111111111111111,\"#46039f\"],[0.2222222222222222,\"#7201a8\"],[0.3333333333333333,\"#9c179e\"],[0.4444444444444444,\"#bd3786\"],[0.5555555555555556,\"#d8576b\"],[0.6666666666666666,\"#ed7953\"],[0.7777777777777778,\"#fb9f3a\"],[0.8888888888888888,\"#fdca26\"],[1.0,\"#f0f921\"]],\"type\":\"histogram2dcontour\"}],\"histogram2d\":[{\"colorbar\":{\"outlinewidth\":0,\"ticks\":\"\"},\"colorscale\":[[0.0,\"#0d0887\"],[0.1111111111111111,\"#46039f\"],[0.2222222222222222,\"#7201a8\"],[0.3333333333333333,\"#9c179e\"],[0.4444444444444444,\"#bd3786\"],[0.5555555555555556,\"#d8576b\"],[0.6666666666666666,\"#ed7953\"],[0.7777777777777778,\"#fb9f3a\"],[0.8888888888888888,\"#fdca26\"],[1.0,\"#f0f921\"]],\"type\":\"histogram2d\"}],\"histogram\":[{\"marker\":{\"pattern\":{\"fillmode\":\"overlay\",\"size\":10,\"solidity\":0.2}},\"type\":\"histogram\"}],\"mesh3d\":[{\"colorbar\":{\"outlinewidth\":0,\"ticks\":\"\"},\"type\":\"mesh3d\"}],\"parcoords\":[{\"line\":{\"colorbar\":{\"outlinewidth\":0,\"ticks\":\"\"}},\"type\":\"parcoords\"}],\"pie\":[{\"automargin\":true,\"type\":\"pie\"}],\"scatter3d\":[{\"line\":{\"colorbar\":{\"outlinewidth\":0,\"ticks\":\"\"}},\"marker\":{\"colorbar\":{\"outlinewidth\":0,\"ticks\":\"\"}},\"type\":\"scatter3d\"}],\"scattercarpet\":[{\"marker\":{\"colorbar\":{\"outlinewidth\":0,\"ticks\":\"\"}},\"type\":\"scattercarpet\"}],\"scattergeo\":[{\"marker\":{\"colorbar\":{\"outlinewidth\":0,\"ticks\":\"\"}},\"type\":\"scattergeo\"}],\"scattergl\":[{\"marker\":{\"line\":{\"color\":\"#283442\"}},\"type\":\"scattergl\"}],\"scattermapbox\":[{\"marker\":{\"colorbar\":{\"outlinewidth\":0,\"ticks\":\"\"}},\"type\":\"scattermapbox\"}],\"scatterpolargl\":[{\"marker\":{\"colorbar\":{\"outlinewidth\":0,\"ticks\":\"\"}},\"type\":\"scatterpolargl\"}],\"scatterpolar\":[{\"marker\":{\"colorbar\":{\"outlinewidth\":0,\"ticks\":\"\"}},\"type\":\"scatterpolar\"}],\"scatter\":[{\"marker\":{\"line\":{\"color\":\"#283442\"}},\"type\":\"scatter\"}],\"scatterternary\":[{\"marker\":{\"colorbar\":{\"outlinewidth\":0,\"ticks\":\"\"}},\"type\":\"scatterternary\"}],\"surface\":[{\"colorbar\":{\"outlinewidth\":0,\"ticks\":\"\"},\"colorscale\":[[0.0,\"#0d0887\"],[0.1111111111111111,\"#46039f\"],[0.2222222222222222,\"#7201a8\"],[0.3333333333333333,\"#9c179e\"],[0.4444444444444444,\"#bd3786\"],[0.5555555555555556,\"#d8576b\"],[0.6666666666666666,\"#ed7953\"],[0.7777777777777778,\"#fb9f3a\"],[0.8888888888888888,\"#fdca26\"],[1.0,\"#f0f921\"]],\"type\":\"surface\"}],\"table\":[{\"cells\":{\"fill\":{\"color\":\"#506784\"},\"line\":{\"color\":\"rgb(17,17,17)\"}},\"header\":{\"fill\":{\"color\":\"#2a3f5f\"},\"line\":{\"color\":\"rgb(17,17,17)\"}},\"type\":\"table\"}]},\"layout\":{\"annotationdefaults\":{\"arrowcolor\":\"#f2f5fa\",\"arrowhead\":0,\"arrowwidth\":1},\"autotypenumbers\":\"strict\",\"coloraxis\":{\"colorbar\":{\"outlinewidth\":0,\"ticks\":\"\"}},\"colorscale\":{\"diverging\":[[0,\"#8e0152\"],[0.1,\"#c51b7d\"],[0.2,\"#de77ae\"],[0.3,\"#f1b6da\"],[0.4,\"#fde0ef\"],[0.5,\"#f7f7f7\"],[0.6,\"#e6f5d0\"],[0.7,\"#b8e186\"],[0.8,\"#7fbc41\"],[0.9,\"#4d9221\"],[1,\"#276419\"]],\"sequential\":[[0.0,\"#0d0887\"],[0.1111111111111111,\"#46039f\"],[0.2222222222222222,\"#7201a8\"],[0.3333333333333333,\"#9c179e\"],[0.4444444444444444,\"#bd3786\"],[0.5555555555555556,\"#d8576b\"],[0.6666666666666666,\"#ed7953\"],[0.7777777777777778,\"#fb9f3a\"],[0.8888888888888888,\"#fdca26\"],[1.0,\"#f0f921\"]],\"sequentialminus\":[[0.0,\"#0d0887\"],[0.1111111111111111,\"#46039f\"],[0.2222222222222222,\"#7201a8\"],[0.3333333333333333,\"#9c179e\"],[0.4444444444444444,\"#bd3786\"],[0.5555555555555556,\"#d8576b\"],[0.6666666666666666,\"#ed7953\"],[0.7777777777777778,\"#fb9f3a\"],[0.8888888888888888,\"#fdca26\"],[1.0,\"#f0f921\"]]},\"colorway\":[\"#636efa\",\"#EF553B\",\"#00cc96\",\"#ab63fa\",\"#FFA15A\",\"#19d3f3\",\"#FF6692\",\"#B6E880\",\"#FF97FF\",\"#FECB52\"],\"font\":{\"color\":\"#f2f5fa\"},\"geo\":{\"bgcolor\":\"rgb(17,17,17)\",\"lakecolor\":\"rgb(17,17,17)\",\"landcolor\":\"rgb(17,17,17)\",\"showlakes\":true,\"showland\":true,\"subunitcolor\":\"#506784\"},\"hoverlabel\":{\"align\":\"left\"},\"hovermode\":\"closest\",\"mapbox\":{\"style\":\"dark\"},\"paper_bgcolor\":\"rgb(17,17,17)\",\"plot_bgcolor\":\"rgb(17,17,17)\",\"polar\":{\"angularaxis\":{\"gridcolor\":\"#506784\",\"linecolor\":\"#506784\",\"ticks\":\"\"},\"bgcolor\":\"rgb(17,17,17)\",\"radialaxis\":{\"gridcolor\":\"#506784\",\"linecolor\":\"#506784\",\"ticks\":\"\"}},\"scene\":{\"xaxis\":{\"backgroundcolor\":\"rgb(17,17,17)\",\"gridcolor\":\"#506784\",\"gridwidth\":2,\"linecolor\":\"#506784\",\"showbackground\":true,\"ticks\":\"\",\"zerolinecolor\":\"#C8D4E3\"},\"yaxis\":{\"backgroundcolor\":\"rgb(17,17,17)\",\"gridcolor\":\"#506784\",\"gridwidth\":2,\"linecolor\":\"#506784\",\"showbackground\":true,\"ticks\":\"\",\"zerolinecolor\":\"#C8D4E3\"},\"zaxis\":{\"backgroundcolor\":\"rgb(17,17,17)\",\"gridcolor\":\"#506784\",\"gridwidth\":2,\"linecolor\":\"#506784\",\"showbackground\":true,\"ticks\":\"\",\"zerolinecolor\":\"#C8D4E3\"}},\"shapedefaults\":{\"line\":{\"color\":\"#f2f5fa\"}},\"sliderdefaults\":{\"bgcolor\":\"#C8D4E3\",\"bordercolor\":\"rgb(17,17,17)\",\"borderwidth\":1,\"tickwidth\":0},\"ternary\":{\"aaxis\":{\"gridcolor\":\"#506784\",\"linecolor\":\"#506784\",\"ticks\":\"\"},\"baxis\":{\"gridcolor\":\"#506784\",\"linecolor\":\"#506784\",\"ticks\":\"\"},\"bgcolor\":\"rgb(17,17,17)\",\"caxis\":{\"gridcolor\":\"#506784\",\"linecolor\":\"#506784\",\"ticks\":\"\"}},\"title\":{\"x\":0.05},\"updatemenudefaults\":{\"bgcolor\":\"#506784\",\"borderwidth\":0},\"xaxis\":{\"automargin\":true,\"gridcolor\":\"#283442\",\"linecolor\":\"#506784\",\"ticks\":\"\",\"title\":{\"standoff\":15},\"zerolinecolor\":\"#283442\",\"zerolinewidth\":2},\"yaxis\":{\"automargin\":true,\"gridcolor\":\"#283442\",\"linecolor\":\"#506784\",\"ticks\":\"\",\"title\":{\"standoff\":15},\"zerolinecolor\":\"#283442\",\"zerolinewidth\":2}}},\"xaxis\":{\"anchor\":\"y\",\"domain\":[0.0,1.0],\"title\":{\"text\":\"output_token_price\"},\"type\":\"log\",\"range\":[-3,2]},\"yaxis\":{\"anchor\":\"x\",\"domain\":[0.0,1.0],\"title\":{\"text\":\"Arena score\"},\"range\":[1230,1380]},\"legend\":{\"title\":{\"text\":\"organization\"},\"tracegroupgap\":0,\"font\":{\"size\":12,\"color\":\"black\"},\"x\":0.01,\"y\":1,\"traceorder\":\"reversed\",\"bgcolor\":\"LightSteelBlue\",\"bordercolor\":\"White\",\"borderwidth\":2},\"title\":{\"text\":\"Quality vs. Cost Effectiveness\"},\"margin\":{\"l\":50,\"r\":50,\"t\":100,\"b\":50},\"height\":1000},                        {\"responsive\": true}                    ).then(function(){\n",
       "                            \n",
       "var gd = document.getElementById('1e0e7d42-6408-4dc4-86e4-f71439e78f3d');\n",
       "var x = new MutationObserver(function (mutations, observer) {{\n",
       "        var display = window.getComputedStyle(gd).display;\n",
       "        if (!display || display === 'none') {{\n",
       "            console.log([gd, 'removed!']);\n",
       "            Plotly.purge(gd);\n",
       "            observer.disconnect();\n",
       "        }}\n",
       "}});\n",
       "\n",
       "// Listen for the removal of the full notebook cells\n",
       "var notebookContainer = gd.closest('#notebook-container');\n",
       "if (notebookContainer) {{\n",
       "    x.observe(notebookContainer, {childList: true});\n",
       "}}\n",
       "\n",
       "// Listen for the clearing of the current output cell\n",
       "var outputEl = gd.closest('.output');\n",
       "if (outputEl) {{\n",
       "    x.observe(outputEl, {childList: true});\n",
       "}}\n",
       "\n",
       "                        })                };                });            </script>        </div>"
      ]
     },
     "metadata": {},
     "output_type": "display_data"
    }
   ],
   "source": [
    "import plotly.express as px\n",
    "import plotly.graph_objects as go\n",
    "\n",
    "fig = px.scatter(pricing_data[:30], y=\"score\", x=\"output_token_price\", title=\"Quality vs. Cost Effectiveness\", labels={\n",
    "                     \"output_tokens_per_USD\": \"# of output tokens per USD (in thousands)\",\n",
    "                     \"score\": \"Arena score\"}, color=\"organization\", log_x=True, text=\"model_key\")\n",
    "fig.update_traces(\n",
    "    textposition=\"bottom center\",  # Change position if needed (e.g., 'top center', 'bottom right')\n",
    "    textfont=dict(size=13.2),    # Adjust font size for better readability\n",
    "    texttemplate='%{text}',   # Control text formatting\n",
    ")\n",
    "fig.update_traces(marker=dict(size=8.5))\n",
    "\n",
    "fig.update_xaxes(range=[-3,\n",
    "                        2])\n",
    "\n",
    "fig.update_yaxes(range=[1230,\n",
    "                        1380])\n",
    "\n",
    "fig.update_layout(\n",
    "    height=2000,  # Set the height to a larger value\n",
    "    margin=dict(\n",
    "        l=50,  # Left margin\n",
    "        r=50,  # Right margin\n",
    "        t=100,  # Top margin\n",
    "        b=50   # Bottom margin\n",
    "    )\n",
    ")\n",
    "fig.update_layout(template=\"plotly_dark\")\n",
    "fig.update_layout(\n",
    "    legend=dict(\n",
    "        x=0.01,\n",
    "        y=1,\n",
    "        traceorder=\"reversed\",\n",
    "        font=dict(\n",
    "            size=12,\n",
    "            color=\"black\"\n",
    "        ),\n",
    "        bgcolor=\"LightSteelBlue\",\n",
    "        bordercolor=\"White\",\n",
    "        borderwidth=2\n",
    "    )\n",
    ")\n",
    "# fig.update_traces(showlegend=False)\n",
    "fig.show()"
   ]
  },
  {
   "cell_type": "code",
   "execution_count": 104,
   "id": "ceeeca83-f66a-42b0-976e-ed18ddc949bc",
   "metadata": {},
   "outputs": [],
   "source": [
    "fig.write_html(\"figure2.html\")"
   ]
  },
  {
   "cell_type": "code",
   "execution_count": null,
   "id": "d7967965-e9b6-42df-8e13-b3ae1401d61a",
   "metadata": {},
   "outputs": [],
   "source": [
    "import plotly.graph_objects as go\n",
    "\n",
    "\n",
    "def visualize_price_control(models, before, after, lower_bound, upper_bound, category, style,\n",
    "                            reverse=False, criteria=\"Arena Score\"):\n",
    "    # Create traces for each model\n",
    "    fig = go.Figure()\n",
    "\n",
    "    for i, model in enumerate(models):\n",
    "        fig.add_trace(go.Scatter(\n",
    "            x=[category, category + \" + Price \" + style + \"Control\"],\n",
    "            y=[before[i], after[i]],\n",
    "            mode='lines+markers',\n",
    "            name=model,\n",
    "            line=dict(width=4),\n",
    "            marker=dict(size=14)\n",
    "        ))\n",
    "        # Update layout for aesthetics\n",
    "    bounds = [lower_bound, upper_bound]\n",
    "    if reverse:\n",
    "        bounds = [upper_bound, lower_bound]\n",
    "    fig.update_layout(\n",
    "        title=dict(\n",
    "            text=category + \" Ranking + \" + \"Price \" + style + \"Control\",\n",
    "            subtitle=dict(\n",
    "                text=\"Chatbot Arena: \" + category + \" (left), \" + category + \" + Price \" + style + \"Control (right)\",\n",
    "                font=dict(color=\"gray\", size=14),\n",
    "            ),\n",
    "        ),\n",
    "        xaxis_title=\"Category\",\n",
    "        yaxis_title=f\"Performance ({criteria})\",\n",
    "        xaxis=dict(tickmode='array', tickvals=[category, category + \" + Price \" + style + \"Control\"]),\n",
    "        yaxis=dict(range=bounds),\n",
    "\n",
    "        plot_bgcolor='black',\n",
    "        paper_bgcolor='black',\n",
    "        title_font=dict(size=25, color='white'),\n",
    "        font=dict(color='white'),\n",
    "        legend=dict(font=dict(size=14)),\n",
    "        width=600,  # Adjust width here to make it narrower\n",
    "        height=700  # You can adjust the height as well if needed\n",
    "    )\n",
    "\n",
    "\n",
    "    # Show the figure\n",
    "    fig.show()"
   ]
  },
  {
   "cell_type": "code",
   "execution_count": null,
   "id": "dcaef661-3e2c-4968-9556-8fa7b5c30ab1",
   "metadata": {},
   "outputs": [],
   "source": [
    "# Overall ranking change controlled for price\n",
    "models = ['chatgpt-4o-latest', 'gemini-1.5-pro-exp-0827', 'claude-3-5-sonnet-20240620', 'gemini-1.5-flash-exp-0827', 'llama-3.1-405b-instruct', 'gpt-4o-2024-08-06', 'gpt-4-turbo-2024-04-09', 'athene-70b-0725']\n",
    "overall_scores = [1316.71, 1300.29, 1270.79, 1269.42, 1266.35, 1261.41, 1257.34, 1249.15]\n",
    "price_control_scores = [1305.61, 1298.1, 1264.05, 1270.23, 1265.78, 1255.79, 1240.69, 1249.72]\n",
    "\n",
    "visualize_price_control(models, overall_scores, price_control_scores, 1235, 1320, \"Overall\", \"\")"
   ]
  },
  {
   "cell_type": "code",
   "execution_count": null,
   "id": "e0e8e6d1-10bd-4579-8558-45b715532d13",
   "metadata": {},
   "outputs": [],
   "source": [
    "# Ranking change for hard prompts\n",
    "models = ['chatgpt-4o-latest', 'gemini-1.5-pro-exp-0827', 'claude-3-5-sonnet-20240620', 'gemini-1.5-flash-exp-0827', 'llama-3.1-405b-instruct', 'gpt-4o-2024-08-06', 'gpt-4-turbo-2024-04-09', 'athene-70b-0725']\n",
    "overall_scores = [1314.65, 1289.05, 1280.79, 1264.57, 1270.19, 1264.9, 1254.47, 1247.9]\n",
    "price_control_scores = [1305.48, 1287.14, 1274.61, 1265.92, 1269.64, 1260.23, 1239.49, 1248.22]\n",
    "\n",
    "visualize_price_control(models, overall_scores, price_control_scores, 1235, 1315, \"Hard Prompt\", \"\")"
   ]
  }
 ],
 "metadata": {
  "kernelspec": {
   "display_name": "Python 3 (ipykernel)",
   "language": "python",
   "name": "python3"
  },
  "language_info": {
   "codemirror_mode": {
    "name": "ipython",
    "version": 3
   },
   "file_extension": ".py",
   "mimetype": "text/x-python",
   "name": "python",
   "nbconvert_exporter": "python",
   "pygments_lexer": "ipython3",
   "version": "3.12.7"
  }
 },
 "nbformat": 4,
 "nbformat_minor": 5
}
